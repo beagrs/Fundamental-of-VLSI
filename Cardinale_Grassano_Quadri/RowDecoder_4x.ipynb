{
 "cells": [
  {
   "cell_type": "markdown",
   "metadata": {},
   "source": [
    "# RowDecoder 4x"
   ]
  },
  {
   "cell_type": "markdown",
   "metadata": {},
   "source": [
    "After exploring the RowDecoder 1x and 2x, we can now explore the RowDecoder 4x. Here again, only the fanIn-2 cells are considered"
   ]
  },
  {
   "cell_type": "code",
   "execution_count": 1,
   "metadata": {},
   "outputs": [],
   "source": [
    "from circuit import *\n",
    "from optimum_sizing import *\n",
    "from metal import *\n",
    "\n",
    "# Library needed to print with the \"Engineering Notation\" the results\n",
    "from quantiphy import Quantity"
   ]
  },
  {
   "cell_type": "markdown",
   "metadata": {},
   "source": [
    "#### Some constant definitions"
   ]
  },
  {
   "cell_type": "code",
   "execution_count": 2,
   "metadata": {},
   "outputs": [],
   "source": [
    "TAU_1 = 6.18e-12                                    # Intrinsic delay of the inverter (s)\n",
    "TAU_2 = 3.717e-12                                   # Effort delay of the inverter (s)\n",
    "TAU_RATIO = TAU_1 / TAU_2                           # Tau ratio\n",
    "\n",
    "BETA_OPT = 2.5                                      # Beta factor\n",
    "BETA_FIRST = 2                                      # Beta factor first buffer\n",
    "C_INT_TRANS = 0.5e-15 / (BETA_OPT + 1)              # Intrinsic capacitance of the transistor (F)\n",
    "C_GATE_INV = C_INT_TRANS * (BETA_OPT + 1)           # Gate capacitance of the inverter (F)\n",
    "S_WIRE = 0.1                                        # Minimum distance between wires (um)\n",
    "W_WIRE_STANDARD = 0.1                               # Standard width of the wire (um)\n",
    "\n",
    "L_BITCELL = 1                                       # length of the cell (um)              \n",
    "W_BITCELL = 0.5                                     # height of the cell (um)\n",
    "\n",
    "WORD_SIZE = 32\n",
    "ADDRESS_NB = 256\n",
    "\n",
    "WL_LENGTH = WORD_SIZE * L_BITCELL\n",
    "PRE2POST_DECODER_LENGTH = ADDRESS_NB * W_BITCELL\n",
    "\n",
    "BITCELL_CAP = 2 * WORD_SIZE * C_INT_TRANS           # Input cap of the whole"
   ]
  },
  {
   "cell_type": "markdown",
   "metadata": {},
   "source": [
    "#### Some metal definitions"
   ]
  },
  {
   "cell_type": "code",
   "execution_count": 3,
   "metadata": {},
   "outputs": [
    {
     "name": "stdout",
     "output_type": "stream",
     "text": [
      "dummy_metal\n",
      "\tL = 0\n",
      "\tR_tot = 0 Ohm\n",
      "\tW = 0.0001\n",
      "\tC_wire = 0 F\n",
      "\tC_tot = 0 F\n",
      "\tDelay = 0 s\n",
      "\n",
      "pre_post_metal\n",
      "\tL = 128.0\n",
      "\tR_tot = 134.4 Ohm\n",
      "\tW = 0.1\n",
      "\tC_wire = 1.7664 fF\n",
      "\tC_tot = 38.118 fF\n",
      "\tDelay = 1.7675 ps\n",
      "\n",
      "post_WL_metal\n",
      "\tL = 32\n",
      "\tR_tot = 33.6 Ohm\n",
      "\tW = 0.1\n",
      "\tC_wire = 364.8 aF\n",
      "\tC_tot = 1.7472 fF\n",
      "\tDelay = 20.254 fs\n",
      "\n"
     ]
    }
   ],
   "source": [
    "# Dummy metal (0 resistance, 0 capacitance)\n",
    "DUMMY_METAL = Metal(\"dummy_metal\", 0, 0.0001, 0, S_WIRE, 1)\n",
    "print(DUMMY_METAL)\n",
    "\n",
    "# Metal from pre-decoder to post-decoder without buffers\n",
    "pre_post_metal = Metal(\"pre_post_metal\", 2, W_WIRE_STANDARD, PRE2POST_DECODER_LENGTH, S_WIRE, False)\n",
    "print(pre_post_metal)\n",
    "\n",
    "# Metal from post-decoder to WL\n",
    "post_WL_metal = Metal(\"post_WL_metal\", 3, W_WIRE_STANDARD, WL_LENGTH, W_BITCELL, True)\n",
    "print(post_WL_metal)"
   ]
  },
  {
   "attachments": {
    "rowdec_4x.jpeg": {
     "image/jpeg": "[encoded data removed]"
    }
   },
   "cell_type": "markdown",
   "metadata": {},
   "source": [
    "## Architecture\n",
    "The architecture we are exploring is the following one\\\n",
    "\\\n",
    "![rowdec_4x.jpeg](attachment:rowdec_4x.jpeg)\n",
    "#### Define the FanIn/FanOut of the different stages"
   ]
  },
  {
   "cell_type": "code",
   "execution_count": 4,
   "metadata": {},
   "outputs": [],
   "source": [
    "group = 4                                # Number of bits per group \n",
    "\n",
    "# Define some useful variables\n",
    "DRIVER_FO  = np.power(2,(group-1))       # Fan-out of the input driver\n",
    "PREDEC_FI  = group                       # Fan-in of the predecoder gate\n",
    "PREDEC_FO  = np.power(2, (8 - group))    # Pre-decored fan-out\n",
    "POSTDEC_FI = 8//group                    # Post-decoder fan-in\n",
    "\n",
    "PREDEC_FI_ARCH1 = 2"
   ]
  },
  {
   "cell_type": "code",
   "execution_count": 5,
   "metadata": {},
   "outputs": [
    {
     "name": "stdout",
     "output_type": "stream",
     "text": [
      "DRIVER_FO        =   8\n",
      "PREDEC_FI        =   4\n",
      "PREDEC_FO        =   16\n",
      "POSTDEC_FI       =   2\n",
      "PREDEC_FI_ARCH1  =   2\n"
     ]
    }
   ],
   "source": [
    "# print the Fanout/Fanin of the different stages\n",
    "print(\"DRIVER_FO        =   \" + str(DRIVER_FO))\n",
    "print(\"PREDEC_FI        =   \" + str(PREDEC_FI))\n",
    "print(\"PREDEC_FO        =   \" + str(PREDEC_FO))\n",
    "print(\"POSTDEC_FI       =   \" + str(POSTDEC_FI))\n",
    "print(\"PREDEC_FI_ARCH1  =   \" + str(PREDEC_FI_ARCH1))"
   ]
  },
  {
   "cell_type": "markdown",
   "metadata": {},
   "source": [
    "#### Define all the gates of this architecture"
   ]
  },
  {
   "cell_type": "code",
   "execution_count": 6,
   "metadata": {},
   "outputs": [],
   "source": [
    "input_buffer = Inverter(\"input_buffer\", BETA_FIRST, BETA_OPT, 1, DUMMY_METAL, C_INT_TRANS, TAU_RATIO)\n",
    "\n",
    "# Predecoder\n",
    "nand_pre_list = []\n",
    "for i in range(DRIVER_FO):\n",
    "    nand_predec = Nand(\"nand_predec_\" + str(i), BETA_OPT, BETA_OPT, 1, PREDEC_FI_ARCH1, DUMMY_METAL, C_INT_TRANS, TAU_RATIO)\n",
    "    nand_pre_list.append(nand_predec)\n",
    "\n",
    "nand_branch_pre = Branch(\"nand_branch_predec\", nand_pre_list)\n",
    "nor_pre = Nor(\"nor_predec\", BETA_OPT, BETA_OPT, 1, 2, DUMMY_METAL, C_INT_TRANS, TAU_RATIO)\n",
    "\n",
    "# Postdecoder\n",
    "nand_post_list = list()\n",
    "for i in range(PREDEC_FO):\n",
    "    nand_post =  Nand(\"nand_postdec_\" + str(i), BETA_OPT, BETA_OPT, 1, POSTDEC_FI, DUMMY_METAL, C_INT_TRANS, TAU_RATIO)\n",
    "    nand_post_list.append(nand_post)\n",
    "\n",
    "nand_branch_post = Branch(\"nand_branch_postdec\", nand_post_list)\n",
    "inv_post = Inverter(\"inv_postdec\", BETA_OPT, BETA_OPT, 1, post_WL_metal, C_INT_TRANS, TAU_RATIO)"
   ]
  },
  {
   "cell_type": "markdown",
   "metadata": {},
   "source": [
    "#### Optimal number of buffers"
   ]
  },
  {
   "cell_type": "code",
   "execution_count": 7,
   "metadata": {},
   "outputs": [
    {
     "name": "stdout",
     "output_type": "stream",
     "text": [
      "Circuit name: rowdec_4x\n",
      "╒════════════╤════════════════╤══════════════════════╤══════════════╤═══════════════════════╤═══════════════╕\n",
      "│            │ input_buffer   │ nand_branch_predec   │ nor_predec   │ nand_branch_postdec   │ inv_postdec   │\n",
      "╞════════════╪════════════════╪══════════════════════╪══════════════╪═══════════════════════╪═══════════════╡\n",
      "│ p          │ 1.000          │ 2.000                │ 2.000        │ 2.000                 │ 1.000         │\n",
      "├────────────┼────────────────┼──────────────────────┼──────────────┼───────────────────────┼───────────────┤\n",
      "│ g          │ 1.000          │ 1.286                │ 1.714        │ 1.286                 │ 1.000         │\n",
      "├────────────┼────────────────┼──────────────────────┼──────────────┼───────────────────────┼───────────────┤\n",
      "│ h          │ 1.286          │ 1.333                │ 0.750        │ 0.778                 │ 25.275        │\n",
      "├────────────┼────────────────┼──────────────────────┼──────────────┼───────────────────────┼───────────────┤\n",
      "│ b          │ 8.000          │ 1.000                │ 16.000       │ 1.000                 │ 1.000         │\n",
      "├────────────┼────────────────┼──────────────────────┼──────────────┼───────────────────────┼───────────────┤\n",
      "│ gamma      │ 1.000          │ 1.000                │ 1.000        │ 1.000                 │ 1.000         │\n",
      "├────────────┼────────────────┼──────────────────────┼──────────────┼───────────────────────┼───────────────┤\n",
      "│ Cin        │ 500 aF         │ 642.86 aF            │ 857.14 aF    │ 642.86 aF             │ 500 aF        │\n",
      "├────────────┼────────────────┼──────────────────────┼──────────────┼───────────────────────┼───────────────┤\n",
      "│ Cload      │ 642.86 aF      │ 857.14 aF            │ 642.86 aF    │ 500 aF                │ 12.637 fF     │\n",
      "├────────────┼────────────────┼──────────────────────┼──────────────┼───────────────────────┼───────────────┤\n",
      "│ C_off      │ 0 F            │ 4.5 fF               │ 0 F          │ 9.6429 fF             │ 0 F           │\n",
      "├────────────┼────────────────┼──────────────────────┼──────────────┼───────────────────────┼───────────────┤\n",
      "│ gate delay │ 44.412 ps      │ 18.732 ps            │ 88.824 ps    │ 16.077 ps             │ 100.13 ps     │\n",
      "╘════════════╧════════════════╧══════════════════════╧══════════════╧═══════════════════════╧═══════════════╛\n",
      "\n",
      "Delay of the circuit = 268.17 ps\n",
      "Minimum achievable delay = 164.68 ps\n",
      "Number of stages = 5\n",
      "Tau_2 = 3.717 ps\n",
      "Tau_ratio = 1.663\n",
      "F_hat = 6.201\n",
      "Final load = 21.780 * C_in_inv\n",
      "H = 25.275\n",
      "G = 2.834\n",
      "B = 128.000\n"
     ]
    }
   ],
   "source": [
    "# Complete circuit without wire\n",
    "rowdec_4x_gates = [input_buffer, nand_branch_pre, nor_pre, nand_branch_post, inv_post]\n",
    "rowdec_4x = Circuit(\"rowdec_4x\", rowdec_4x_gates, TAU_2, TAU_RATIO, (post_WL_metal.Ctot + BITCELL_CAP) / C_GATE_INV)\n",
    "rowdec_4x.info()"
   ]
  },
  {
   "cell_type": "code",
   "execution_count": 8,
   "metadata": {},
   "outputs": [
    {
     "name": "stdout",
     "output_type": "stream",
     "text": [
      "Optimal stages number (rho = 3.59) = 1.8230900365269855\n",
      "the delay is expressed in multiples of TAU_2 and it's only related to the buffers\n",
      "\t -> delay (exact) = 9.578064075634861\n",
      "\t -> delay (N = 2) = 9.739532114211341\n",
      "\n",
      "Optimal stages number (rho = 4) = 1.6812850396923542\n",
      "\t -> delay (exact) = 9.520497044779304\n",
      "\t -> delay (N = 2) = 9.739532114211341\n",
      "\n",
      "Upper even N = 2\n",
      "\t -> delay = 9.739532114211341\n",
      "\n",
      "Lower even N = 0\n",
      "\t0 stages does not make sense\n"
     ]
    }
   ],
   "source": [
    "optimal_nb_buffer(input_buffer.C_load + nand_branch_pre.C_off, input_buffer.C_in_gate, TAU_RATIO)"
   ]
  },
  {
   "cell_type": "markdown",
   "metadata": {},
   "source": [
    "The optimal number of stages is 2"
   ]
  },
  {
   "cell_type": "markdown",
   "metadata": {},
   "source": [
    "#### Generate the circuit"
   ]
  },
  {
   "cell_type": "code",
   "execution_count": 9,
   "metadata": {},
   "outputs": [
    {
     "name": "stdout",
     "output_type": "stream",
     "text": [
      "Circuit name: rowdec_4x\n",
      "╒════════════╤════════════════╤═══════════╤═══════════╤══════════════════════╤══════════════╤═══════════════════════╤═══════════════╕\n",
      "│            │ input_buffer   │ buffer1   │ buffer2   │ nand_branch_predec   │ nor_predec   │ nand_branch_postdec   │ inv_postdec   │\n",
      "╞════════════╪════════════════╪═══════════╪═══════════╪══════════════════════╪══════════════╪═══════════════════════╪═══════════════╡\n",
      "│ p          │ 1.000          │ 1.000     │ 1.000     │ 2.000                │ 2.000        │ 2.000                 │ 1.000         │\n",
      "├────────────┼────────────────┼───────────┼───────────┼──────────────────────┼──────────────┼───────────────────────┼───────────────┤\n",
      "│ g          │ 1.000          │ 1.000     │ 1.000     │ 1.286                │ 1.714        │ 1.286                 │ 1.000         │\n",
      "├────────────┼────────────────┼───────────┼───────────┼──────────────────────┼──────────────┼───────────────────────┼───────────────┤\n",
      "│ h          │ 1.000          │ 1.000     │ 1.286     │ 1.333                │ 0.750        │ 0.778                 │ 25.275        │\n",
      "├────────────┼────────────────┼───────────┼───────────┼──────────────────────┼──────────────┼───────────────────────┼───────────────┤\n",
      "│ b          │ 1.000          │ 1.000     │ 8.000     │ 1.000                │ 16.000       │ 1.000                 │ 1.000         │\n",
      "├────────────┼────────────────┼───────────┼───────────┼──────────────────────┼──────────────┼───────────────────────┼───────────────┤\n",
      "│ gamma      │ 1.000          │ 1.000     │ 1.000     │ 1.000                │ 1.000        │ 1.000                 │ 1.000         │\n",
      "├────────────┼────────────────┼───────────┼───────────┼──────────────────────┼──────────────┼───────────────────────┼───────────────┤\n",
      "│ Cin        │ 500 aF         │ 500 aF    │ 500 aF    │ 642.86 aF            │ 857.14 aF    │ 642.86 aF             │ 500 aF        │\n",
      "├────────────┼────────────────┼───────────┼───────────┼──────────────────────┼──────────────┼───────────────────────┼───────────────┤\n",
      "│ Cload      │ 500 aF         │ 500 aF    │ 642.86 aF │ 857.14 aF            │ 642.86 aF    │ 500 aF                │ 12.637 fF     │\n",
      "├────────────┼────────────────┼───────────┼───────────┼──────────────────────┼──────────────┼───────────────────────┼───────────────┤\n",
      "│ C_off      │ 0 F            │ 0 F       │ 0 F       │ 4.5 fF               │ 0 F          │ 9.6429 fF             │ 0 F           │\n",
      "├────────────┼────────────────┼───────────┼───────────┼──────────────────────┼──────────────┼───────────────────────┼───────────────┤\n",
      "│ gate delay │ 9.897 ps       │ 9.897 ps  │ 44.412 ps │ 18.732 ps            │ 88.824 ps    │ 16.077 ps             │ 100.13 ps     │\n",
      "╘════════════╧════════════════╧═══════════╧═══════════╧══════════════════════╧══════════════╧═══════════════════════╧═══════════════╛\n",
      "\n",
      "Delay of the circuit = 287.96 ps\n",
      "Minimum achievable delay = 157.59 ps\n",
      "Number of stages = 7\n",
      "Tau_2 = 3.717 ps\n",
      "Tau_ratio = 1.663\n",
      "F_hat = 3.682\n",
      "Final load = 21.780 * C_in_inv\n",
      "H = 25.275\n",
      "G = 2.834\n",
      "B = 128.000\n"
     ]
    }
   ],
   "source": [
    "# Adding buffer\n",
    "buffer1 = Inverter(\"buffer1\", BETA_OPT, BETA_OPT, 1, DUMMY_METAL, C_INT_TRANS, TAU_RATIO)\n",
    "buffer2 = Inverter(\"buffer2\", BETA_OPT, BETA_OPT, 1, DUMMY_METAL, C_INT_TRANS, TAU_RATIO)\n",
    "\n",
    "rowdec_4x_gates_buffer = [input_buffer, buffer1, buffer2, nand_branch_pre, nor_pre, nand_branch_post, inv_post]\n",
    "rowdec_4x_buffer = Circuit(\"rowdec_4x\", rowdec_4x_gates_buffer, TAU_2, TAU_RATIO, (post_WL_metal.Ctot + BITCELL_CAP) / C_GATE_INV)\n",
    "rowdec_4x_buffer.info()"
   ]
  },
  {
   "cell_type": "markdown",
   "metadata": {},
   "source": [
    "#### Optimize the size of the circuit"
   ]
  },
  {
   "cell_type": "code",
   "execution_count": 10,
   "metadata": {},
   "outputs": [
    {
     "name": "stdout",
     "output_type": "stream",
     "text": [
      "Circuit name: rowdec_4x_optimized\n",
      "╒════════════╤════════════════════╤═══════════════╤═══════════════╤══════════════════════════╤══════════════════╤═══════════════════════════╤═══════════════════╕\n",
      "│            │ input_buffer_opt   │ buffer1_opt   │ buffer2_opt   │ nand_branch_predec_opt   │ nor_predec_opt   │ nand_branch_postdec_opt   │ inv_postdec_opt   │\n",
      "╞════════════╪════════════════════╪═══════════════╪═══════════════╪══════════════════════════╪══════════════════╪═══════════════════════════╪═══════════════════╡\n",
      "│ p          │ 1.000              │ 1.000         │ 1.000         │ 2.000                    │ 2.000            │ 2.000                     │ 1.000             │\n",
      "├────────────┼────────────────────┼───────────────┼───────────────┼──────────────────────────┼──────────────────┼───────────────────────────┼───────────────────┤\n",
      "│ g          │ 1.000              │ 1.000         │ 1.000         │ 1.286                    │ 1.714            │ 1.286                     │ 1.000             │\n",
      "├────────────┼────────────────────┼───────────────┼───────────────┼──────────────────────────┼──────────────────┼───────────────────────────┼───────────────────┤\n",
      "│ h          │ 3.682              │ 3.682         │ 0.460         │ 2.863                    │ 0.134            │ 2.863                     │ 3.682             │\n",
      "├────────────┼────────────────────┼───────────────┼───────────────┼──────────────────────────┼──────────────────┼───────────────────────────┼───────────────────┤\n",
      "│ b          │ 1.000              │ 1.000         │ 8.000         │ 1.000                    │ 16.000           │ 1.000                     │ 1.000             │\n",
      "├────────────┼────────────────────┼───────────────┼───────────────┼──────────────────────────┼──────────────────┼───────────────────────────┼───────────────────┤\n",
      "│ gamma      │ 1.000              │ 3.682         │ 13.554        │ 4.852                    │ 10.419           │ 1.865                     │ 6.865             │\n",
      "├────────────┼────────────────────┼───────────────┼───────────────┼──────────────────────────┼──────────────────┼───────────────────────────┼───────────────────┤\n",
      "│ Cin        │ 500 aF             │ 1.8408 fF     │ 6.7771 fF     │ 3.1188 fF                │ 8.9307 fF        │ 1.1987 fF                 │ 3.4325 fF         │\n",
      "├────────────┼────────────────────┼───────────────┼───────────────┼──────────────────────────┼──────────────────┼───────────────────────────┼───────────────────┤\n",
      "│ Cload      │ 1.8408 fF          │ 6.7771 fF     │ 3.1188 fF     │ 8.9307 fF                │ 1.1987 fF        │ 3.4325 fF                 │ 12.637 fF         │\n",
      "├────────────┼────────────────────┼───────────────┼───────────────┼──────────────────────────┼──────────────────┼───────────────────────────┼───────────────────┤\n",
      "│ C_off      │ 0 F                │ 0 F           │ 0 F           │ 21.832 fF                │ 0 F              │ 17.981 fF                 │ 0 F               │\n",
      "├────────────┼────────────────────┼───────────────┼───────────────┼──────────────────────────┼──────────────────┼───────────────────────────┼───────────────────┤\n",
      "│ gate delay │ 19.865 ps          │ 19.865 ps     │ 19.865 ps     │ 26.045 ps                │ 26.045 ps        │ 26.045 ps                 │ 19.865 ps         │\n",
      "╘════════════╧════════════════════╧═══════════════╧═══════════════╧══════════════════════════╧══════════════════╧═══════════════════════════╧═══════════════════╛\n",
      "\n",
      "Delay of the circuit = 157.59 ps\n",
      "Minimum achievable delay = 157.59 ps\n",
      "Number of stages = 7\n",
      "Tau_2 = 3.717 ps\n",
      "Tau_ratio = 1.663\n",
      "F_hat = 3.682\n",
      "Final load = 21.780 * C_in_inv\n",
      "H = 25.275\n",
      "G = 2.834\n",
      "B = 128.000\n"
     ]
    }
   ],
   "source": [
    "rowdec_4x_opt = optimize_circuit_size(rowdec_4x_buffer)\n",
    "rowdec_4x_opt.info()"
   ]
  },
  {
   "cell_type": "markdown",
   "metadata": {},
   "source": [
    "#### Add the wire by increasing the fanout of the nor of the predecoder to achieve a Coff = Coff_branch + Cwire"
   ]
  },
  {
   "cell_type": "code",
   "execution_count": 11,
   "metadata": {},
   "outputs": [
    {
     "name": "stdout",
     "output_type": "stream",
     "text": [
      "Additional Nand FanOut = 30\n"
     ]
    }
   ],
   "source": [
    "# Real size nand\n",
    "nand = Nand(\"nand\", BETA_OPT, BETA_OPT, 2, 2, DUMMY_METAL, C_INT_TRANS, TAU_RATIO)\n",
    "\n",
    "# If we increase the fanout of the sized nand to achieve a Coff that is Coff_branch + Cwire\n",
    "additional_FO = round(pre_post_metal.Ctot / nand.C_in_gate)\n",
    "print(f\"Additional Nand FanOut = {additional_FO}\")"
   ]
  },
  {
   "cell_type": "code",
   "execution_count": 12,
   "metadata": {},
   "outputs": [],
   "source": [
    "GAMMA_NAND_POST = 2\n",
    "GAMMA_INV_POST = 7"
   ]
  },
  {
   "cell_type": "code",
   "execution_count": 13,
   "metadata": {},
   "outputs": [],
   "source": [
    "nand_branch_with_wire = list()\n",
    "for i in range(PREDEC_FO + additional_FO):\n",
    "    nand_4x_postDec =  Nand(\"nand_4x_post_\" + str(i), BETA_OPT, BETA_OPT, GAMMA_NAND_POST, POSTDEC_FI, DUMMY_METAL, C_INT_TRANS, TAU_RATIO)\n",
    "    nand_branch_with_wire.append(nand_4x_postDec)\n",
    "\n",
    "nand_branch_wire = Branch(\"nand_post\", nand_branch_with_wire)\n",
    "\n",
    "inv_final = Inverter(\"inv_final\", BETA_OPT, BETA_OPT, GAMMA_INV_POST, DUMMY_METAL, C_INT_TRANS, TAU_RATIO)"
   ]
  },
  {
   "cell_type": "code",
   "execution_count": 14,
   "metadata": {},
   "outputs": [
    {
     "name": "stdout",
     "output_type": "stream",
     "text": [
      "Circuit name: RowDecoder 4x - Predecoder\n",
      "╒════════════╤════════════════╤═══════════╤═══════════╤══════════════════════╤══════════════╕\n",
      "│            │ input_buffer   │ buffer1   │ buffer2   │ nand_branch_predec   │ nor_predec   │\n",
      "╞════════════╪════════════════╪═══════════╪═══════════╪══════════════════════╪══════════════╡\n",
      "│ p          │ 1.000          │ 1.000     │ 1.000     │ 2.000                │ 2.000        │\n",
      "├────────────┼────────────────┼───────────┼───────────┼──────────────────────┼──────────────┤\n",
      "│ g          │ 1.000          │ 1.000     │ 1.000     │ 1.286                │ 1.714        │\n",
      "├────────────┼────────────────┼───────────┼───────────┼──────────────────────┼──────────────┤\n",
      "│ h          │ 1.000          │ 1.000     │ 1.286     │ 1.333                │ 69.000       │\n",
      "├────────────┼────────────────┼───────────┼───────────┼──────────────────────┼──────────────┤\n",
      "│ b          │ 1.000          │ 1.000     │ 8.000     │ 1.000                │ 16.000       │\n",
      "├────────────┼────────────────┼───────────┼───────────┼──────────────────────┼──────────────┤\n",
      "│ gamma      │ 1.000          │ 1.000     │ 1.000     │ 1.000                │ 1.000        │\n",
      "├────────────┼────────────────┼───────────┼───────────┼──────────────────────┼──────────────┤\n",
      "│ Cin        │ 500 aF         │ 500 aF    │ 500 aF    │ 642.86 aF            │ 857.14 aF    │\n",
      "├────────────┼────────────────┼───────────┼───────────┼──────────────────────┼──────────────┤\n",
      "│ Cload      │ 500 aF         │ 500 aF    │ 642.86 aF │ 857.14 aF            │ 59.143 fF    │\n",
      "├────────────┼────────────────┼───────────┼───────────┼──────────────────────┼──────────────┤\n",
      "│ C_off      │ 0 F            │ 0 F       │ 0 F       │ 4.5 fF               │ 0 F          │\n",
      "├────────────┼────────────────┼───────────┼───────────┼──────────────────────┼──────────────┤\n",
      "│ gate delay │ 9.897 ps       │ 9.897 ps  │ 44.412 ps │ 18.732 ps            │ 7.047 ns     │\n",
      "╘════════════╧════════════════╧═══════════╧═══════════╧══════════════════════╧══════════════╛\n",
      "\n",
      "Delay of the circuit = 7.13 ns\n",
      "Minimum achievable delay = 128.97 ps\n",
      "Number of stages = 5\n",
      "Tau_2 = 3.717 ps\n",
      "Tau_ratio = 1.663\n",
      "F_hat = 4.612\n",
      "Final load = 118.286 * C_in_inv\n",
      "H = 118.286\n",
      "G = 2.204\n",
      "B = 8.000\n"
     ]
    }
   ],
   "source": [
    "predec_gates = [input_buffer, buffer1, buffer2, nand_branch_pre, nor_pre]\n",
    "predec = Circuit(\"RowDecoder 4x - Predecoder\", predec_gates, TAU_2, TAU_RATIO, (nand_branch_wire.C_in_gate + nand_branch_wire.C_off) / C_GATE_INV)\n",
    "predec.info()"
   ]
  },
  {
   "cell_type": "code",
   "execution_count": 15,
   "metadata": {},
   "outputs": [
    {
     "name": "stdout",
     "output_type": "stream",
     "text": [
      "Circuit name: RowDecoder 4x - Predecoder_optimized\n",
      "╒════════════╤════════════════════╤═══════════════╤═══════════════╤══════════════════════════╤══════════════════╕\n",
      "│            │ input_buffer_opt   │ buffer1_opt   │ buffer2_opt   │ nand_branch_predec_opt   │ nor_predec_opt   │\n",
      "╞════════════╪════════════════════╪═══════════════╪═══════════════╪══════════════════════════╪══════════════════╡\n",
      "│ p          │ 1.000              │ 1.000         │ 1.000         │ 2.000                    │ 2.000            │\n",
      "├────────────┼────────────────────┼───────────────┼───────────────┼──────────────────────────┼──────────────────┤\n",
      "│ g          │ 1.000              │ 1.000         │ 1.000         │ 1.286                    │ 1.714            │\n",
      "├────────────┼────────────────────┼───────────────┼───────────────┼──────────────────────────┼──────────────────┤\n",
      "│ h          │ 4.612              │ 4.612         │ 0.576         │ 3.587                    │ 2.690            │\n",
      "├────────────┼────────────────────┼───────────────┼───────────────┼──────────────────────────┼──────────────────┤\n",
      "│ b          │ 1.000              │ 1.000         │ 8.000         │ 1.000                    │ 1.000            │\n",
      "├────────────┼────────────────────┼───────────────┼───────────────┼──────────────────────────┼──────────────────┤\n",
      "│ gamma      │ 1.000              │ 4.612         │ 21.267        │ 9.535                    │ 25.650           │\n",
      "├────────────┼────────────────────┼───────────────┼───────────────┼──────────────────────────┼──────────────────┤\n",
      "│ Cin        │ 500 aF             │ 2.3058 fF     │ 10.633 fF     │ 6.1296 fF                │ 21.985 fF        │\n",
      "├────────────┼────────────────────┼───────────────┼───────────────┼──────────────────────────┼──────────────────┤\n",
      "│ Cload      │ 2.3058 fF          │ 10.633 fF     │ 6.1296 fF     │ 21.985 fF                │ 59.143 fF        │\n",
      "├────────────┼────────────────────┼───────────────┼───────────────┼──────────────────────────┼──────────────────┤\n",
      "│ C_off      │ 0 F                │ 0 F           │ 0 F           │ 42.907 fF                │ 0 F              │\n",
      "├────────────┼────────────────────┼───────────────┼───────────────┼──────────────────────────┼──────────────────┤\n",
      "│ gate delay │ 23.321 ps          │ 23.321 ps     │ 23.321 ps     │ 29.501 ps                │ 29.501 ps        │\n",
      "╘════════════╧════════════════════╧═══════════════╧═══════════════╧══════════════════════════╧══════════════════╛\n",
      "\n",
      "Delay of the circuit = 128.97 ps\n",
      "Minimum achievable delay = 128.97 ps\n",
      "Number of stages = 5\n",
      "Tau_2 = 3.717 ps\n",
      "Tau_ratio = 1.663\n",
      "F_hat = 4.612\n",
      "Final load = 118.286 * C_in_inv\n",
      "H = 118.286\n",
      "G = 2.204\n",
      "B = 8.000\n"
     ]
    }
   ],
   "source": [
    "predec_opt = optimize_circuit_size(predec)\n",
    "predec_opt.info()"
   ]
  },
  {
   "cell_type": "markdown",
   "metadata": {},
   "source": [
    "#### Create the final RowDecoder circuit"
   ]
  },
  {
   "cell_type": "code",
   "execution_count": 16,
   "metadata": {},
   "outputs": [],
   "source": [
    "GAMMA_BUFFER_1 = 5\n",
    "GAMMA_BUFFER_2 = 22\n",
    "GAMMA_NAND_PRE = 10\n",
    "GAMMA_NOR_PRE = 26"
   ]
  },
  {
   "cell_type": "code",
   "execution_count": 17,
   "metadata": {},
   "outputs": [
    {
     "name": "stdout",
     "output_type": "stream",
     "text": [
      "Circuit name: RowDecoder 4x - Final Architecture\n",
      "╒════════════╤════════════════╤═══════════╤═══════════╤═════════════════════════╤══════════════╤═════════════╤═════════════╕\n",
      "│            │ input_buffer   │ buffer1   │ buffer2   │ nand_branch_pre_final   │ nor_predec   │ nand_post   │ inv_final   │\n",
      "╞════════════╪════════════════╪═══════════╪═══════════╪═════════════════════════╪══════════════╪═════════════╪═════════════╡\n",
      "│ p          │ 1.000          │ 1.000     │ 1.000     │ 2.000                   │ 2.000        │ 2.000       │ 1.000       │\n",
      "├────────────┼────────────────┼───────────┼───────────┼─────────────────────────┼──────────────┼─────────────┼─────────────┤\n",
      "│ g          │ 1.000          │ 1.000     │ 1.000     │ 1.286                   │ 1.714        │ 1.286       │ 1.000       │\n",
      "├────────────┼────────────────┼───────────┼───────────┼─────────────────────────┼──────────────┼─────────────┼─────────────┤\n",
      "│ h          │ 5.000          │ 4.400     │ 0.584     │ 3.467                   │ 0.058        │ 2.722       │ 3.111       │\n",
      "├────────────┼────────────────┼───────────┼───────────┼─────────────────────────┼──────────────┼─────────────┼─────────────┤\n",
      "│ b          │ 1.000          │ 1.000     │ 8.000     │ 1.000                   │ 46.000       │ 1.000       │ 1.000       │\n",
      "├────────────┼────────────────┼───────────┼───────────┼─────────────────────────┼──────────────┼─────────────┼─────────────┤\n",
      "│ gamma      │ 1.000          │ 5.000     │ 22.000    │ 10.000                  │ 26.000       │ 2.000       │ 7.000       │\n",
      "├────────────┼────────────────┼───────────┼───────────┼─────────────────────────┼──────────────┼─────────────┼─────────────┤\n",
      "│ Cin        │ 500 aF         │ 2.5 fF    │ 11 fF     │ 6.4286 fF               │ 22.286 fF    │ 1.2857 fF   │ 3.5 fF      │\n",
      "├────────────┼────────────────┼───────────┼───────────┼─────────────────────────┼──────────────┼─────────────┼─────────────┤\n",
      "│ Cload      │ 2.5 fF         │ 11 fF     │ 6.4286 fF │ 22.286 fF               │ 1.2857 fF    │ 3.5 fF      │ 10.89 fF    │\n",
      "├────────────┼────────────────┼───────────┼───────────┼─────────────────────────┼──────────────┼─────────────┼─────────────┤\n",
      "│ C_off      │ 0 F            │ 0 F       │ 0 F       │ 45 fF                   │ 0 F          │ 57.857 fF   │ 0 F         │\n",
      "├────────────┼────────────────┼───────────┼───────────┼─────────────────────────┼──────────────┼─────────────┼─────────────┤\n",
      "│ gate delay │ 24.765 ps      │ 22.535 ps │ 23.558 ps │ 28.927 ps               │ 29.27 ps     │ 25.37 ps    │ 17.745 ps   │\n",
      "╘════════════╧════════════════╧═══════════╧═══════════╧═════════════════════════╧══════════════╧═════════════╧═════════════╛\n",
      "\n",
      "Delay of the circuit = 172.17 ps\n",
      "Minimum achievable delay = 170.85 ps\n",
      "Number of stages = 7\n",
      "Tau_2 = 3.717 ps\n",
      "Tau_ratio = 1.663\n",
      "F_hat = 4.191\n",
      "Final load = 21.780 * C_in_inv\n",
      "H = 21.780\n",
      "G = 2.834\n",
      "B = 368.000\n"
     ]
    }
   ],
   "source": [
    "buffer1_final = Inverter(\"buffer1\", BETA_OPT, BETA_OPT, GAMMA_BUFFER_1, DUMMY_METAL, C_INT_TRANS, TAU_RATIO)\n",
    "buffer2_final = Inverter(\"buffer2\", BETA_OPT, BETA_OPT, GAMMA_BUFFER_2, DUMMY_METAL, C_INT_TRANS, TAU_RATIO)\n",
    "\n",
    "nand_pre_list_final = []\n",
    "for i in range(DRIVER_FO):\n",
    "    nand_predec = Nand(\"nand_predec_\" + str(i), BETA_OPT, BETA_OPT, GAMMA_NAND_PRE, PREDEC_FI_ARCH1, DUMMY_METAL, C_INT_TRANS, TAU_RATIO)\n",
    "    nand_pre_list_final.append(nand_predec)\n",
    "\n",
    "nand_branch_pre_final = Branch(\"nand_branch_pre_final\", nand_pre_list_final)\n",
    "nor_pre_final = Nor(\"nor_predec\", BETA_OPT, BETA_OPT, GAMMA_NOR_PRE, 2, DUMMY_METAL, C_INT_TRANS, TAU_RATIO)\n",
    "\n",
    "\n",
    "rowdec_4x_gates_final = [input_buffer, buffer1_final, buffer2_final, nand_branch_pre_final, nor_pre_final, nand_branch_wire, inv_final]\n",
    "rowdec_4x_final = Circuit(\"RowDecoder 4x - Final Architecture\", rowdec_4x_gates_final, TAU_2, TAU_RATIO, (post_WL_metal.Ctot + BITCELL_CAP) / C_GATE_INV)\n",
    "rowdec_4x_final.info()"
   ]
  },
  {
   "attachments": {
    "image.png": {
     "image/png": "[encoded data removed]"
    }
   },
   "cell_type": "markdown",
   "metadata": {},
   "source": [
    "The final configuration of the RowDecoder is the following\\\n",
    "\\\n",
    "![image.png](attachment:image.png)"
   ]
  },
  {
   "cell_type": "markdown",
   "metadata": {},
   "source": [
    "The total delay is"
   ]
  },
  {
   "cell_type": "code",
   "execution_count": 18,
   "metadata": {},
   "outputs": [
    {
     "name": "stdout",
     "output_type": "stream",
     "text": [
      "Total delay = 173.96 ps\n"
     ]
    }
   ],
   "source": [
    "total_delay = rowdec_4x_final.delay + pre_post_metal.tau + post_WL_metal.tau\n",
    "print(f\"Total delay = {str(Quantity(total_delay, 's'))}\")"
   ]
  }
 ],
 "metadata": {
  "kernelspec": {
   "display_name": "Python 3",
   "language": "python",
   "name": "python3"
  },
  "language_info": {
   "codemirror_mode": {
    "name": "ipython",
    "version": 3
   },
   "file_extension": ".py",
   "mimetype": "text/x-python",
   "name": "python",
   "nbconvert_exporter": "python",
   "pygments_lexer": "ipython3",
   "version": "3.11.5"
  }
 },
 "nbformat": 4,
 "nbformat_minor": 2
}
