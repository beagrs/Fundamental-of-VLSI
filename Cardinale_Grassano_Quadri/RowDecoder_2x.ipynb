{
 "cells": [
  {
   "cell_type": "markdown",
   "metadata": {},
   "source": [
    "# RowDecoder 2x"
   ]
  },
  {
   "cell_type": "markdown",
   "metadata": {},
   "source": [
    "After exploring the RowDecoder 1x, we can now explore the RowDecoder 2x. From now on, only the fanIn-2 cells are considered"
   ]
  },
  {
   "cell_type": "code",
   "execution_count": 1,
   "metadata": {},
   "outputs": [],
   "source": [
    "from circuit import *\n",
    "from optimum_sizing import *\n",
    "from metal import *\n",
    "\n",
    "# Library needed to print with the \"Engineering Notation\" the results\n",
    "from quantiphy import Quantity"
   ]
  },
  {
   "cell_type": "markdown",
   "metadata": {},
   "source": [
    "#### Some constant definitions"
   ]
  },
  {
   "cell_type": "code",
   "execution_count": 2,
   "metadata": {},
   "outputs": [],
   "source": [
    "TAU_1 = 6.18e-12                                    # Intrinsic delay of the inverter (s)\n",
    "TAU_2 = 3.717e-12                                   # Effort delay of the inverter (s)\n",
    "TAU_RATIO = TAU_1 / TAU_2                           # Tau ratio\n",
    "\n",
    "BETA_OPT = 2.5                                      # Beta factor\n",
    "BETA_FIRST = 2                                      # Beta factor first buffer\n",
    "C_INT_TRANS = 0.5e-15 / (BETA_OPT + 1)              # Intrinsic capacitance of the transistor (F)\n",
    "C_GATE_INV = C_INT_TRANS * (BETA_OPT + 1)           # Gate capacitance of the inverter (F)\n",
    "S_WIRE = 0.1                                        # Minimum distance between wires (um)\n",
    "W_WIRE_STANDARD = 0.1                               # Standard width of the wire (um)\n",
    "\n",
    "L_BITCELL = 1                                       # length of the cell (um)              \n",
    "W_BITCELL = 0.5                                     # height of the cell (um)\n",
    "\n",
    "WORD_SIZE = 32\n",
    "ADDRESS_NB = 256\n",
    "\n",
    "WL_LENGTH = WORD_SIZE * L_BITCELL\n",
    "PRE2POST_DECODER_LENGTH = ADDRESS_NB * W_BITCELL\n",
    "\n",
    "BITCELL_CAP = 2 * WORD_SIZE * C_INT_TRANS           # Input cap of the whole"
   ]
  },
  {
   "cell_type": "markdown",
   "metadata": {},
   "source": [
    "#### Some metal definitions"
   ]
  },
  {
   "cell_type": "code",
   "execution_count": 3,
   "metadata": {},
   "outputs": [],
   "source": [
    "# Dummy metal (0 resistance, 0 capacitance)\n",
    "DUMMY_METAL = Metal(\"dummy_metal\", 0, 0.0001, 0, S_WIRE, 1)\n",
    "\n",
    "# Metal from pre-decoder to post-decoder without buffers\n",
    "pre_post_metal = Metal(\"pre_post_metal\", 2, W_WIRE_STANDARD, PRE2POST_DECODER_LENGTH, S_WIRE, False)\n",
    "\n",
    "# Metal from post-decoder to WL\n",
    "post_WL_metal = Metal(\"post_WL_metal\", 3, W_WIRE_STANDARD, WL_LENGTH, W_BITCELL, True)"
   ]
  },
  {
   "attachments": {
    "image.png": {
     "image/png": "[encoded data removed]"
    }
   },
   "cell_type": "markdown",
   "metadata": {},
   "source": [
    "## Architecture\n",
    "The architecture we are exploring is the following one\\\n",
    "\\\n",
    "![image.png](attachment:image.png)\n",
    "#### Define the FanIn/FanOut of the different stages"
   ]
  },
  {
   "cell_type": "code",
   "execution_count": 4,
   "metadata": {},
   "outputs": [],
   "source": [
    "group = 2                                # Number of bits per group \n",
    "\n",
    "# Define some useful variables\n",
    "DRIVER_FO  = np.power(2,(group-1))       # Fan-out of the input driver\n",
    "PREDEC_FI  = group                       # Fan-in of the predecoder gate\n",
    "PREDEC_FO  = np.power(2, (8 - group))    # Pre-decored fan-out\n",
    "POSTDEC_FI = 8//group                    # Post-decoder fan-in\n",
    "\n",
    "POSTDEC_FI_ARCH1 = 2"
   ]
  },
  {
   "cell_type": "markdown",
   "metadata": {},
   "source": [
    "#### Define all the gates of this architecture"
   ]
  },
  {
   "cell_type": "code",
   "execution_count": 5,
   "metadata": {},
   "outputs": [],
   "source": [
    "input_buffer = Inverter(\"input_buffer\", BETA_FIRST, BETA_OPT, 1, DUMMY_METAL, C_INT_TRANS, TAU_RATIO)\n",
    "\n",
    "nor_branch_list_pre = list()\n",
    "for i in range(DRIVER_FO):\n",
    "    nor_2x_preDec = Nor(\"nor_2x_pre_\" + str(i), BETA_OPT, BETA_OPT, 1, PREDEC_FI, DUMMY_METAL, C_INT_TRANS, TAU_RATIO)\n",
    "    nor_branch_list_pre.append(nor_2x_preDec)\n",
    "\n",
    "nor_branch_pre = Branch(\"nor_pre\", nor_branch_list_pre)\n",
    "\n",
    "# PP_wire = Wire(\"pre_post_wire\", BETA_OPT, BETA_OPT, 1, pre_post_metal, C_INT_TRANS, TAU_RATIO)\n",
    "\n",
    "nand_branch_list_post = list()\n",
    "for i in range(PREDEC_FO):\n",
    "    nand_2x_postDec =  Nand(\"nand_2x_post_\" + str(i), BETA_OPT, BETA_OPT, 1, POSTDEC_FI_ARCH1, DUMMY_METAL, C_INT_TRANS, TAU_RATIO)\n",
    "    nand_branch_list_post.append(nand_2x_postDec)\n",
    "\n",
    "nand_branch_post = Branch(\"nand_post\", nand_branch_list_post)\n",
    "nor_post = Nor(\"nor_post\", BETA_OPT, BETA_OPT, 1, 2, DUMMY_METAL, C_INT_TRANS, TAU_RATIO)"
   ]
  },
  {
   "cell_type": "markdown",
   "metadata": {},
   "source": [
    "#### Optimal number of buffers"
   ]
  },
  {
   "cell_type": "code",
   "execution_count": 6,
   "metadata": {},
   "outputs": [
    {
     "name": "stdout",
     "output_type": "stream",
     "text": [
      "Optimal stages number (rho = 3.59) = 0.9637683643784103\n",
      "the delay is expressed in multiples of TAU_2 and it's only related to the buffers\n",
      "\t -> delay (exact) = 5.063400579859174\n",
      "\t -> delay (N = 1) = 5.091202582728006\n",
      "\n",
      "Optimal stages number (rho = 4) = 0.8888037893317762\n",
      "\t -> delay (exact) = 5.032968027402535\n",
      "\t -> delay (N = 1) = 5.091202582728006\n",
      "\n",
      "Upper even N = 2\n",
      "\t -> delay = 7.028542707403362\n",
      "\n",
      "Lower even N = 0\n",
      "\t0 stages does not make sense\n"
     ]
    }
   ],
   "source": [
    "row_2x_gates_no_buff = [input_buffer, nor_branch_pre, nand_branch_post, nor_post]\n",
    "row_2x_no_buff = Circuit(\"RowDecoder 2x - no buffers\", row_2x_gates_no_buff, TAU_2, TAU_RATIO, (post_WL_metal.Ctot + BITCELL_CAP) / C_GATE_INV)\n",
    "\n",
    "optimal_nb_buffer(nor_branch_pre.C_off + input_buffer.C_load, input_buffer.C_in_gate, TAU_RATIO)"
   ]
  },
  {
   "cell_type": "markdown",
   "metadata": {},
   "source": [
    "For us, the buffers are inverters. So the optimal number is 2"
   ]
  },
  {
   "cell_type": "markdown",
   "metadata": {},
   "source": [
    "#### Generate the circuit"
   ]
  },
  {
   "cell_type": "code",
   "execution_count": 7,
   "metadata": {},
   "outputs": [
    {
     "name": "stdout",
     "output_type": "stream",
     "text": [
      "Circuit name: RowDecoder 2x\n",
      "╒════════════╤════════════════╤═══════════╤═══════════╤═══════════╤═════════════╤════════════╕\n",
      "│            │ input_buffer   │ buffer1   │ buffer2   │ nor_pre   │ nand_post   │ nor_post   │\n",
      "╞════════════╪════════════════╪═══════════╪═══════════╪═══════════╪═════════════╪════════════╡\n",
      "│ p          │ 1.000          │ 1.000     │ 1.000     │ 2.000     │ 2.000       │ 2.000      │\n",
      "├────────────┼────────────────┼───────────┼───────────┼───────────┼─────────────┼────────────┤\n",
      "│ g          │ 1.000          │ 1.000     │ 1.000     │ 1.714     │ 1.286       │ 1.714      │\n",
      "├────────────┼────────────────┼───────────┼───────────┼───────────┼─────────────┼────────────┤\n",
      "│ h          │ 1.000          │ 1.000     │ 1.714     │ 0.750     │ 1.333       │ 12.705     │\n",
      "├────────────┼────────────────┼───────────┼───────────┼───────────┼─────────────┼────────────┤\n",
      "│ b          │ 1.000          │ 1.000     │ 2.000     │ 64.000    │ 1.000       │ 1.000      │\n",
      "├────────────┼────────────────┼───────────┼───────────┼───────────┼─────────────┼────────────┤\n",
      "│ gamma      │ 1.000          │ 1.000     │ 1.000     │ 1.000     │ 1.000       │ 1.000      │\n",
      "├────────────┼────────────────┼───────────┼───────────┼───────────┼─────────────┼────────────┤\n",
      "│ Cin        │ 500 aF         │ 500 aF    │ 500 aF    │ 857.14 aF │ 642.86 aF   │ 857.14 aF  │\n",
      "├────────────┼────────────────┼───────────┼───────────┼───────────┼─────────────┼────────────┤\n",
      "│ Cload      │ 500 aF         │ 500 aF    │ 857.14 aF │ 642.86 aF │ 857.14 aF   │ 10.89 fF   │\n",
      "├────────────┼────────────────┼───────────┼───────────┼───────────┼─────────────┼────────────┤\n",
      "│ C_off      │ 0 F            │ 0 F       │ 0 F       │ 857.14 aF │ 40.5 fF     │ 0 F        │\n",
      "├────────────┼────────────────┼───────────┼───────────┼───────────┼─────────────┼────────────┤\n",
      "│ gate delay │ 9.897 ps       │ 9.897 ps  │ 18.924 ps │ 318.22 ps │ 18.732 ps   │ 93.317 ps  │\n",
      "╘════════════╧════════════════╧═══════════╧═══════════╧═══════════╧═════════════╧════════════╛\n",
      "\n",
      "Delay of the circuit = 468.98 ps\n",
      "Minimum achievable delay = 160.04 ps\n",
      "Number of stages = 6\n",
      "Tau_2 = 3.717 ps\n",
      "Tau_ratio = 1.663\n",
      "F_hat = 4.682\n",
      "Final load = 21.780 * C_in_inv\n",
      "H = 21.780\n",
      "G = 3.778\n",
      "B = 128.000\n"
     ]
    }
   ],
   "source": [
    "# Complete circuit\n",
    "buffer1 = Inverter(\"buffer1\", BETA_OPT, BETA_OPT, 1, DUMMY_METAL, C_INT_TRANS, TAU_RATIO)\n",
    "buffer2 = Inverter(\"buffer2\", BETA_OPT, BETA_OPT, 1, DUMMY_METAL, C_INT_TRANS, TAU_RATIO)\n",
    "\n",
    "row_2x_gates = [input_buffer, buffer1, buffer2, nor_branch_pre, nand_branch_post, nor_post]\n",
    "row_2x = Circuit(\"RowDecoder 2x\", row_2x_gates, TAU_2, TAU_RATIO, (post_WL_metal.Ctot + BITCELL_CAP) / C_GATE_INV)\n",
    "row_2x.info()"
   ]
  },
  {
   "cell_type": "markdown",
   "metadata": {},
   "source": [
    "#### Optimize the size of the circuit"
   ]
  },
  {
   "cell_type": "code",
   "execution_count": 8,
   "metadata": {},
   "outputs": [
    {
     "name": "stdout",
     "output_type": "stream",
     "text": [
      "Circuit name: RowDecoder 2x_optimized\n",
      "╒════════════╤════════════════════╤═══════════════╤═══════════════╤═══════════════╤═════════════════╤════════════════╕\n",
      "│            │ input_buffer_opt   │ buffer1_opt   │ buffer2_opt   │ nor_pre_opt   │ nand_post_opt   │ nor_post_opt   │\n",
      "╞════════════╪════════════════════╪═══════════════╪═══════════════╪═══════════════╪═════════════════╪════════════════╡\n",
      "│ p          │ 1.000              │ 1.000         │ 1.000         │ 2.000         │ 2.000           │ 2.000          │\n",
      "├────────────┼────────────────────┼───────────────┼───────────────┼───────────────┼─────────────────┼────────────────┤\n",
      "│ g          │ 1.000              │ 1.000         │ 1.000         │ 1.714         │ 1.286           │ 1.714          │\n",
      "├────────────┼────────────────────┼───────────────┼───────────────┼───────────────┼─────────────────┼────────────────┤\n",
      "│ h          │ 4.682              │ 4.682         │ 2.341         │ 0.043         │ 3.642           │ 2.731          │\n",
      "├────────────┼────────────────────┼───────────────┼───────────────┼───────────────┼─────────────────┼────────────────┤\n",
      "│ b          │ 1.000              │ 1.000         │ 2.000         │ 64.000        │ 1.000           │ 1.000          │\n",
      "├────────────┼────────────────────┼───────────────┼───────────────┼───────────────┼─────────────────┼────────────────┤\n",
      "│ gamma      │ 1.000              │ 4.682         │ 21.921        │ 29.935        │ 1.703           │ 4.652          │\n",
      "├────────────┼────────────────────┼───────────────┼───────────────┼───────────────┼─────────────────┼────────────────┤\n",
      "│ Cin        │ 500 aF             │ 2.341 fF      │ 10.96 fF      │ 25.658 fF     │ 1.095 fF        │ 3.9873 fF      │\n",
      "├────────────┼────────────────────┼───────────────┼───────────────┼───────────────┼─────────────────┼────────────────┤\n",
      "│ Cload      │ 2.341 fF           │ 10.96 fF      │ 25.658 fF     │ 1.095 fF      │ 3.9873 fF       │ 10.89 fF       │\n",
      "├────────────┼────────────────────┼───────────────┼───────────────┼───────────────┼─────────────────┼────────────────┤\n",
      "│ C_off      │ 0 F                │ 0 F           │ 0 F           │ 25.658 fF     │ 68.982 fF       │ 0 F            │\n",
      "├────────────┼────────────────────┼───────────────┼───────────────┼───────────────┼─────────────────┼────────────────┤\n",
      "│ gate delay │ 23.583 ps          │ 23.583 ps     │ 23.583 ps     │ 29.763 ps     │ 29.763 ps       │ 29.763 ps      │\n",
      "╘════════════╧════════════════════╧═══════════════╧═══════════════╧═══════════════╧═════════════════╧════════════════╛\n",
      "\n",
      "Delay of the circuit = 160.04 ps\n",
      "Minimum achievable delay = 160.04 ps\n",
      "Number of stages = 6\n",
      "Tau_2 = 3.717 ps\n",
      "Tau_ratio = 1.663\n",
      "F_hat = 4.682\n",
      "Final load = 21.780 * C_in_inv\n",
      "H = 21.780\n",
      "G = 3.778\n",
      "B = 128.000\n"
     ]
    }
   ],
   "source": [
    "row_2x_opt = optimize_circuit_size(row_2x)\n",
    "row_2x_opt.info()"
   ]
  },
  {
   "cell_type": "markdown",
   "metadata": {},
   "source": [
    "#### Add the wire by increasing the fanout of the nor of the predecoder to achieve a Coff = Coff_branch + Cwire"
   ]
  },
  {
   "cell_type": "code",
   "execution_count": 9,
   "metadata": {},
   "outputs": [],
   "source": [
    "GAMMA_NAND_POST = 2\n",
    "GAMMA_NOR_POST = 5"
   ]
  },
  {
   "cell_type": "code",
   "execution_count": 10,
   "metadata": {},
   "outputs": [
    {
     "name": "stdout",
     "output_type": "stream",
     "text": [
      "Additional Nand FanOut = 30\n"
     ]
    }
   ],
   "source": [
    "# Real size nand\n",
    "nand = Nand(\"nand\", BETA_OPT, BETA_OPT, 2, 2, DUMMY_METAL, C_INT_TRANS, TAU_RATIO)\n",
    "\n",
    "additional_FO = round(pre_post_metal.Ctot / nand.C_in_gate)\n",
    "print(f\"Additional Nand FanOut = {additional_FO}\")"
   ]
  },
  {
   "cell_type": "markdown",
   "metadata": {},
   "source": [
    "#### Create the final gates of the postdecoder"
   ]
  },
  {
   "cell_type": "code",
   "execution_count": 11,
   "metadata": {},
   "outputs": [],
   "source": [
    "nand_branch_with_wire = list()\n",
    "for i in range(PREDEC_FO + additional_FO):\n",
    "    nand_2x_postDec =  Nand(\"nand_2x_post_\" + str(i), BETA_OPT, BETA_OPT, GAMMA_NAND_POST, POSTDEC_FI_ARCH1, DUMMY_METAL, C_INT_TRANS, TAU_RATIO)\n",
    "    nand_branch_with_wire.append(nand_2x_postDec)\n",
    "\n",
    "nand_branch_wire = Branch(\"nand_post\", nand_branch_with_wire)\n",
    "\n",
    "nor_final = Nor(\"nor_post\", BETA_OPT, BETA_OPT, GAMMA_NOR_POST, 2, DUMMY_METAL, C_INT_TRANS, TAU_RATIO)"
   ]
  },
  {
   "cell_type": "markdown",
   "metadata": {},
   "source": [
    "#### Create the circuit for the predecoder"
   ]
  },
  {
   "cell_type": "code",
   "execution_count": 12,
   "metadata": {},
   "outputs": [
    {
     "name": "stdout",
     "output_type": "stream",
     "text": [
      "Circuit name: RowDecoder 2x - PreDecoder\n",
      "╒════════════╤════════════════╤═══════════╤═══════════╤═══════════╕\n",
      "│            │ input_buffer   │ buffer1   │ buffer2   │ nor_pre   │\n",
      "╞════════════╪════════════════╪═══════════╪═══════════╪═══════════╡\n",
      "│ p          │ 1.000          │ 1.000     │ 1.000     │ 2.000     │\n",
      "├────────────┼────────────────┼───────────┼───────────┼───────────┤\n",
      "│ g          │ 1.000          │ 1.000     │ 1.000     │ 1.714     │\n",
      "├────────────┼────────────────┼───────────┼───────────┼───────────┤\n",
      "│ h          │ 1.000          │ 1.000     │ 1.714     │ 141.000   │\n",
      "├────────────┼────────────────┼───────────┼───────────┼───────────┤\n",
      "│ b          │ 1.000          │ 1.000     │ 2.000     │ 64.000    │\n",
      "├────────────┼────────────────┼───────────┼───────────┼───────────┤\n",
      "│ gamma      │ 1.000          │ 1.000     │ 1.000     │ 1.000     │\n",
      "├────────────┼────────────────┼───────────┼───────────┼───────────┤\n",
      "│ Cin        │ 500 aF         │ 500 aF    │ 500 aF    │ 857.14 aF │\n",
      "├────────────┼────────────────┼───────────┼───────────┼───────────┤\n",
      "│ Cload      │ 500 aF         │ 500 aF    │ 857.14 aF │ 120.86 fF │\n",
      "├────────────┼────────────────┼───────────┼───────────┼───────────┤\n",
      "│ C_off      │ 0 F            │ 0 F       │ 0 F       │ 857.14 aF │\n",
      "├────────────┼────────────────┼───────────┼───────────┼───────────┤\n",
      "│ gate delay │ 9.897 ps       │ 9.897 ps  │ 18.924 ps │ 57.513 ns │\n",
      "╘════════════╧════════════════╧═══════════╧═══════════╧═══════════╛\n",
      "\n",
      "Delay of the circuit = 57.552 ns\n",
      "Minimum achievable delay = 110.67 ps\n",
      "Number of stages = 4\n",
      "Tau_2 = 3.717 ps\n",
      "Tau_ratio = 1.663\n",
      "F_hat = 5.365\n",
      "Final load = 241.714 * C_in_inv\n",
      "H = 241.714\n",
      "G = 1.714\n",
      "B = 2.000\n"
     ]
    }
   ],
   "source": [
    "predec_gates = [input_buffer, buffer1, buffer2, nor_branch_pre]\n",
    "predec = Circuit(\"RowDecoder 2x - PreDecoder\", predec_gates, TAU_2, TAU_RATIO, (nand_branch_wire.C_in_gate + nand_branch_wire.C_off) / C_GATE_INV)\n",
    "predec.info()"
   ]
  },
  {
   "cell_type": "markdown",
   "metadata": {},
   "source": [
    "#### Optimize the predecoder"
   ]
  },
  {
   "cell_type": "code",
   "execution_count": 13,
   "metadata": {},
   "outputs": [
    {
     "name": "stdout",
     "output_type": "stream",
     "text": [
      "Circuit name: RowDecoder 2x - PreDecoder_optimized\n",
      "╒════════════╤════════════════════╤═══════════════╤═══════════════╤═══════════════╕\n",
      "│            │ input_buffer_opt   │ buffer1_opt   │ buffer2_opt   │ nor_pre_opt   │\n",
      "╞════════════╪════════════════════╪═══════════════╪═══════════════╪═══════════════╡\n",
      "│ p          │ 1.000              │ 1.000         │ 1.000         │ 2.000         │\n",
      "├────────────┼────────────────────┼───────────────┼───────────────┼───────────────┤\n",
      "│ g          │ 1.000              │ 1.000         │ 1.000         │ 1.714         │\n",
      "├────────────┼────────────────────┼───────────────┼───────────────┼───────────────┤\n",
      "│ h          │ 5.365              │ 5.365         │ 2.683         │ 3.130         │\n",
      "├────────────┼────────────────────┼───────────────┼───────────────┼───────────────┤\n",
      "│ b          │ 1.000              │ 1.000         │ 2.000         │ 1.000         │\n",
      "├────────────┼────────────────────┼───────────────┼───────────────┼───────────────┤\n",
      "│ gamma      │ 1.000              │ 5.365         │ 28.788        │ 45.050        │\n",
      "├────────────┼────────────────────┼───────────────┼───────────────┼───────────────┤\n",
      "│ Cin        │ 500 aF             │ 2.6827 fF     │ 14.394 fF     │ 38.615 fF     │\n",
      "├────────────┼────────────────────┼───────────────┼───────────────┼───────────────┤\n",
      "│ Cload      │ 2.6827 fF          │ 14.394 fF     │ 38.615 fF     │ 120.86 fF     │\n",
      "├────────────┼────────────────────┼───────────────┼───────────────┼───────────────┤\n",
      "│ C_off      │ 0 F                │ 0 F           │ 0 F           │ 38.615 fF     │\n",
      "├────────────┼────────────────────┼───────────────┼───────────────┼───────────────┤\n",
      "│ gate delay │ 26.123 ps          │ 26.123 ps     │ 26.123 ps     │ 32.303 ps     │\n",
      "╘════════════╧════════════════════╧═══════════════╧═══════════════╧═══════════════╛\n",
      "\n",
      "Delay of the circuit = 110.67 ps\n",
      "Minimum achievable delay = 110.67 ps\n",
      "Number of stages = 4\n",
      "Tau_2 = 3.717 ps\n",
      "Tau_ratio = 1.663\n",
      "F_hat = 5.365\n",
      "Final load = 241.714 * C_in_inv\n",
      "H = 241.714\n",
      "G = 1.714\n",
      "B = 2.000\n"
     ]
    }
   ],
   "source": [
    "predec_opt = optimize_circuit_size(predec)\n",
    "predec_opt.info()"
   ]
  },
  {
   "cell_type": "markdown",
   "metadata": {},
   "source": [
    "#### Create the final RowDecoder circuit"
   ]
  },
  {
   "cell_type": "code",
   "execution_count": 14,
   "metadata": {},
   "outputs": [],
   "source": [
    "GAMMA_BUFFER_1 = 5\n",
    "GAMMA_BUFFER_2 = 29\n",
    "GAMMA_NOR_BRANCH = 45"
   ]
  },
  {
   "cell_type": "code",
   "execution_count": 15,
   "metadata": {},
   "outputs": [
    {
     "name": "stdout",
     "output_type": "stream",
     "text": [
      "Circuit name: RowDecoder 2x - Final Architecture\n",
      "╒════════════╤════════════════╤═══════════╤═══════════╤═══════════╤═════════════╤════════════╕\n",
      "│            │ input_buffer   │ buffer1   │ buffer2   │ nor_pre   │ nand_post   │ nor_post   │\n",
      "╞════════════╪════════════════╪═══════════╪═══════════╪═══════════╪═════════════╪════════════╡\n",
      "│ p          │ 1.000          │ 1.000     │ 1.000     │ 2.000     │ 2.000       │ 2.000      │\n",
      "├────────────┼────────────────┼───────────┼───────────┼───────────┼─────────────┼────────────┤\n",
      "│ g          │ 1.000          │ 1.000     │ 1.000     │ 1.714     │ 1.286       │ 1.714      │\n",
      "├────────────┼────────────────┼───────────┼───────────┼───────────┼─────────────┼────────────┤\n",
      "│ h          │ 5.000          │ 5.800     │ 2.660     │ 0.033     │ 3.333       │ 2.541      │\n",
      "├────────────┼────────────────┼───────────┼───────────┼───────────┼─────────────┼────────────┤\n",
      "│ b          │ 1.000          │ 1.000     │ 2.000     │ 94.000    │ 1.000       │ 1.000      │\n",
      "├────────────┼────────────────┼───────────┼───────────┼───────────┼─────────────┼────────────┤\n",
      "│ gamma      │ 1.000          │ 5.000     │ 29.000    │ 45.000    │ 2.000       │ 5.000      │\n",
      "├────────────┼────────────────┼───────────┼───────────┼───────────┼─────────────┼────────────┤\n",
      "│ Cin        │ 500 aF         │ 2.5 fF    │ 14.5 fF   │ 38.571 fF │ 1.2857 fF   │ 4.2857 fF  │\n",
      "├────────────┼────────────────┼───────────┼───────────┼───────────┼─────────────┼────────────┤\n",
      "│ Cload      │ 2.5 fF         │ 14.5 fF   │ 38.571 fF │ 1.2857 fF │ 4.2857 fF   │ 10.89 fF   │\n",
      "├────────────┼────────────────┼───────────┼───────────┼───────────┼─────────────┼────────────┤\n",
      "│ C_off      │ 0 F            │ 0 F       │ 0 F       │ 38.571 fF │ 119.57 fF   │ 0 F        │\n",
      "├────────────┼────────────────┼───────────┼───────────┼───────────┼─────────────┼────────────┤\n",
      "│ gate delay │ 24.765 ps      │ 27.739 ps │ 25.955 ps │ 32.326 ps │ 28.29 ps    │ 28.551 ps  │\n",
      "╘════════════╧════════════════╧═══════════╧═══════════╧═══════════╧═════════════╧════════════╛\n",
      "\n",
      "Delay of the circuit = 167.63 ps\n",
      "Minimum achievable delay = 166.95 ps\n",
      "Number of stages = 6\n",
      "Tau_2 = 3.717 ps\n",
      "Tau_ratio = 1.663\n",
      "F_hat = 4.992\n",
      "Final load = 21.780 * C_in_inv\n",
      "H = 21.780\n",
      "G = 3.778\n",
      "B = 188.000\n"
     ]
    }
   ],
   "source": [
    "buffer1_final = Inverter(\"buffer1\", BETA_OPT, BETA_OPT, GAMMA_BUFFER_1, DUMMY_METAL, C_INT_TRANS, TAU_RATIO)\n",
    "buffer2_final = Inverter(\"buffer2\", BETA_OPT, BETA_OPT, GAMMA_BUFFER_2, DUMMY_METAL, C_INT_TRANS, TAU_RATIO)\n",
    "\n",
    "nor_branch_final_list = list()\n",
    "for i in range(DRIVER_FO):\n",
    "    nor_2x_preDec = Nor(\"nor_2x_pre_\" + str(i), BETA_OPT, BETA_OPT, GAMMA_NOR_BRANCH, PREDEC_FI, DUMMY_METAL, C_INT_TRANS, TAU_RATIO)\n",
    "    nor_branch_final_list.append(nor_2x_preDec)\n",
    "\n",
    "nor_branch_final = Branch(\"nor_pre\", nor_branch_final_list)\n",
    "\n",
    "rowdec_2x_final_gates = [input_buffer, buffer1_final, buffer2_final, nor_branch_final, nand_branch_wire, nor_final]\n",
    "rowdec_2x_final = Circuit(\"RowDecoder 2x - Final Architecture\", rowdec_2x_final_gates, TAU_2, TAU_RATIO, (post_WL_metal.Ctot + BITCELL_CAP) / C_GATE_INV)\n",
    "rowdec_2x_final.info()"
   ]
  },
  {
   "attachments": {
    "image.png": {
     "image/png": "[encoded data removed]"
    }
   },
   "cell_type": "markdown",
   "metadata": {},
   "source": [
    "The final configuration of the RowDecoder is the following\\\n",
    "\\\n",
    "![image.png](attachment:image.png)"
   ]
  },
  {
   "cell_type": "markdown",
   "metadata": {},
   "source": [
    "The total delay is"
   ]
  },
  {
   "cell_type": "code",
   "execution_count": 16,
   "metadata": {},
   "outputs": [
    {
     "name": "stdout",
     "output_type": "stream",
     "text": [
      "Total delay = 169.41 ps\n"
     ]
    }
   ],
   "source": [
    "total_delay = rowdec_2x_final.delay + pre_post_metal.tau + post_WL_metal.tau\n",
    "print(f\"Total delay = {str(Quantity(total_delay, 's'))}\")"
   ]
  }
 ],
 "metadata": {
  "kernelspec": {
   "display_name": "Python 3",
   "language": "python",
   "name": "python3"
  },
  "language_info": {
   "codemirror_mode": {
    "name": "ipython",
    "version": 3
   },
   "file_extension": ".py",
   "mimetype": "text/x-python",
   "name": "python",
   "nbconvert_exporter": "python",
   "pygments_lexer": "ipython3",
   "version": "3.11.5"
  }
 },
 "nbformat": 4,
 "nbformat_minor": 2
}
