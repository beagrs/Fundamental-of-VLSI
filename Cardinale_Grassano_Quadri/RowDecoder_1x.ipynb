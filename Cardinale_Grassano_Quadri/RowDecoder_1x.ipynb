{
 "cells": [
  {
   "cell_type": "markdown",
   "metadata": {},
   "source": [
    "# RowDecoder 1x"
   ]
  },
  {
   "cell_type": "markdown",
   "metadata": {},
   "source": [
    "In this configuration we are assuming only a post-decoder.\\\n",
    "There are different types of architecture, here we present 3 of them"
   ]
  },
  {
   "cell_type": "code",
   "execution_count": 1,
   "metadata": {},
   "outputs": [],
   "source": [
    "from circuit import *\n",
    "from optimum_sizing import *\n",
    "from metal import *\n",
    "\n",
    "# Library needed to print with the \"Engineering Notation\" the results\n",
    "from quantiphy import Quantity"
   ]
  },
  {
   "cell_type": "markdown",
   "metadata": {},
   "source": [
    "#### Some constant definitions"
   ]
  },
  {
   "cell_type": "code",
   "execution_count": 2,
   "metadata": {},
   "outputs": [],
   "source": [
    "TAU_1 = 6.18e-12                                    # Intrinsic delay of the inverter (s)\n",
    "TAU_2 = 3.717e-12                                   # Effort delay of the inverter (s)\n",
    "TAU_RATIO = TAU_1 / TAU_2                           # Tau ratio\n",
    "\n",
    "BETA_OPT = 2.5                                      # Beta factor\n",
    "BETA_FIRST = 2                                      # Beta factor first buffer\n",
    "C_INT_TRANS = 0.5e-15 / (BETA_OPT + 1)              # Intrinsic capacitance of the transistor (F)\n",
    "C_GATE_INV = C_INT_TRANS * (BETA_OPT + 1)           # Gate capacitance of the inverter (F)\n",
    "S_WIRE = 0.1                                        # Minimum distance between wires (um)\n",
    "W_WIRE_STANDARD = 0.1                               # Standard width of the wire (um)\n",
    "\n",
    "L_BITCELL = 1                                       # length of the cell (um)              \n",
    "W_BITCELL = 0.5                                     # height of the cell (um)\n",
    "\n",
    "WORD_SIZE = 32\n",
    "ADDRESS_NB = 256\n",
    "\n",
    "WL_LENGTH = WORD_SIZE * L_BITCELL\n",
    "PRE2POST_DECODER_LENGTH = ADDRESS_NB * W_BITCELL\n",
    "\n",
    "BITCELL_CAP = 2 * WORD_SIZE * C_INT_TRANS           # Input cap of the whole"
   ]
  },
  {
   "cell_type": "markdown",
   "metadata": {},
   "source": [
    "#### Some metal definitions"
   ]
  },
  {
   "cell_type": "code",
   "execution_count": 3,
   "metadata": {},
   "outputs": [
    {
     "name": "stdout",
     "output_type": "stream",
     "text": [
      "dummy_metal\n",
      "\tL = 0\n",
      "\tR_tot = 0 Ohm\n",
      "\tW = 0.0001\n",
      "\tC_wire = 0 F\n",
      "\tC_tot = 0 F\n",
      "\tDelay = 0 s\n",
      "\n",
      "pre_post_metal\n",
      "\tL = 128.0\n",
      "\tR_tot = 134.4 Ohm\n",
      "\tW = 0.1\n",
      "\tC_wire = 1.7664 fF\n",
      "\tC_tot = 38.118 fF\n",
      "\tDelay = 1.7675 ps\n",
      "\n",
      "post_WL_metal\n",
      "\tL = 32\n",
      "\tR_tot = 33.6 Ohm\n",
      "\tW = 0.1\n",
      "\tC_wire = 364.8 aF\n",
      "\tC_tot = 1.7472 fF\n",
      "\tDelay = 20.254 fs\n",
      "\n"
     ]
    }
   ],
   "source": [
    "# Dummy metal (0 resistance, 0 capacitance)\n",
    "DUMMY_METAL = Metal(\"dummy_metal\", 0, 0.0001, 0, S_WIRE, 1)\n",
    "print(DUMMY_METAL)\n",
    "\n",
    "# Metal from pre-decoder to post-decoder without buffers\n",
    "pre_post_metal = Metal(\"pre_post_metal\", 2, W_WIRE_STANDARD, PRE2POST_DECODER_LENGTH, S_WIRE, False)\n",
    "print(pre_post_metal)\n",
    "\n",
    "# Metal from post-decoder to WL\n",
    "post_WL_metal = Metal(\"post_WL_metal\", 3, W_WIRE_STANDARD, WL_LENGTH, W_BITCELL, True)\n",
    "print(post_WL_metal)"
   ]
  },
  {
   "cell_type": "markdown",
   "metadata": {},
   "source": [
    "## Architecture 1 - 8bit NAND"
   ]
  },
  {
   "attachments": {
    "rowdec_1x_8bit.jpeg": {
     "image/jpeg": "[encoded data removed]"
    }
   },
   "cell_type": "markdown",
   "metadata": {},
   "source": [
    "The first architecture we want to explore is the one provided in the following figure\\\n",
    "\\\n",
    "![rowdec_1x_8bit.jpeg](attachment:rowdec_1x_8bit.jpeg)"
   ]
  },
  {
   "cell_type": "markdown",
   "metadata": {},
   "source": [
    "#### Define the FanIn/FanOut of the different stages"
   ]
  },
  {
   "cell_type": "code",
   "execution_count": 4,
   "metadata": {},
   "outputs": [],
   "source": [
    "INPUT_BUFFER_FO = 256 // 2  # = 128\n",
    "# Divided by two because every input buffer must drive only the half of the total number, \n",
    "# because we have the inverted and not inverted signal\n",
    "\n",
    "NAND_FI = 8\n",
    "NAND_FI_2ND_ARCH = 4\n",
    "NAND_FI_3RD_ARCH = 2"
   ]
  },
  {
   "cell_type": "markdown",
   "metadata": {},
   "source": [
    "#### Define all the gates of this architecture"
   ]
  },
  {
   "cell_type": "code",
   "execution_count": 5,
   "metadata": {},
   "outputs": [],
   "source": [
    "input_buffer = Inverter(\"input_buffer\", BETA_FIRST, BETA_OPT, 1, DUMMY_METAL, C_INT_TRANS, TAU_RATIO)\n",
    "\n",
    "nand_8bit_list = list()\n",
    "for i in range(INPUT_BUFFER_FO):\n",
    "    new_nand_8bit = Nand(\"nand_8bit\", BETA_OPT, BETA_OPT, 1, NAND_FI, DUMMY_METAL, C_INT_TRANS, TAU_RATIO)\n",
    "    nand_8bit_list.append(new_nand_8bit)\n",
    "\n",
    "nand_8bit_branch = Branch(\"nand_8bit_branch\", nand_8bit_list)\n",
    "output_buffer = Inverter(\"output_buffer\", BETA_OPT, BETA_OPT, 1, DUMMY_METAL, C_INT_TRANS, TAU_RATIO)"
   ]
  },
  {
   "cell_type": "markdown",
   "metadata": {},
   "source": [
    "#### Optimize the circuit size without the Pre2Post Wire"
   ]
  },
  {
   "cell_type": "code",
   "execution_count": 6,
   "metadata": {},
   "outputs": [
    {
     "name": "stdout",
     "output_type": "stream",
     "text": [
      "Circuit name: RowDecoder 1x - 8bit\n",
      "╒════════════╤════════════════╤════════════════════╤═════════════════╕\n",
      "│            │ input_buffer   │ nand_8bit_branch   │ output_buffer   │\n",
      "╞════════════╪════════════════╪════════════════════╪═════════════════╡\n",
      "│ p          │ 1.000          │ 8.000              │ 1.000           │\n",
      "├────────────┼────────────────┼────────────────────┼─────────────────┤\n",
      "│ g          │ 1.000          │ 3.000              │ 1.000           │\n",
      "├────────────┼────────────────┼────────────────────┼─────────────────┤\n",
      "│ h          │ 3.000          │ 0.333              │ 21.780          │\n",
      "├────────────┼────────────────┼────────────────────┼─────────────────┤\n",
      "│ b          │ 128.000        │ 1.000              │ 1.000           │\n",
      "├────────────┼────────────────┼────────────────────┼─────────────────┤\n",
      "│ gamma      │ 1.000          │ 1.000              │ 1.000           │\n",
      "├────────────┼────────────────┼────────────────────┼─────────────────┤\n",
      "│ Cin        │ 500 aF         │ 1.5 fF             │ 500 aF          │\n",
      "├────────────┼────────────────┼────────────────────┼─────────────────┤\n",
      "│ Cload      │ 1.5 fF         │ 500 aF             │ 10.89 fF        │\n",
      "├────────────┼────────────────┼────────────────────┼─────────────────┤\n",
      "│ C_off      │ 0 F            │ 190.5 fF           │ 0 F             │\n",
      "├────────────┼────────────────┼────────────────────┼─────────────────┤\n",
      "│ gate delay │ 1.4335 ns      │ 53.157 ps          │ 87.137 ps       │\n",
      "╘════════════╧════════════════╧════════════════════╧═════════════════╛\n",
      "\n",
      "Delay of the circuit = 1.5738 ns\n",
      "Minimum achievable delay = 288.15 ps\n",
      "Number of stages = 3\n",
      "Tau_2 = 3.717 ps\n",
      "Tau_ratio = 1.663\n",
      "F_hat = 20.298\n",
      "Final load = 21.780 * C_in_inv\n",
      "H = 21.780\n",
      "G = 3.000\n",
      "B = 128.000\n"
     ]
    }
   ],
   "source": [
    "# Generate the circuit\n",
    "rowdec_1x_gates = [input_buffer, nand_8bit_branch, output_buffer]\n",
    "rowdec_1x = Circuit(\"RowDecoder 1x - 8bit\", rowdec_1x_gates, TAU_2, TAU_RATIO, (post_WL_metal.Ctot + BITCELL_CAP) / C_GATE_INV)\n",
    "rowdec_1x.info()"
   ]
  },
  {
   "cell_type": "markdown",
   "metadata": {},
   "source": [
    "Before optimizing we can check if we need some buffers between the input buffer and the Nand"
   ]
  },
  {
   "cell_type": "code",
   "execution_count": 7,
   "metadata": {},
   "outputs": [
    {
     "name": "stdout",
     "output_type": "stream",
     "text": [
      "Optimal stages number (rho = 3.59) = 4.6545229480797685\n",
      "the delay is expressed in multiples of TAU_2 and it's only related to the buffers\n",
      "\t -> delay (exact) = 24.45371218371035\n",
      "\t -> delay (N = 5) = 24.750674065955145\n",
      "\n",
      "Optimal stages number (rho = 4) = 4.292481250360577\n",
      "\t -> delay (exact) = 24.30673805692479\n",
      "\t -> delay (N = 4) = 24.357435331831457\n",
      "\n",
      "Upper even N = 6\n",
      "\t -> delay = 26.1518607801068\n",
      "\n",
      "Lower even N = 4\n",
      "\t -> delay = 24.357435331831457\n"
     ]
    }
   ],
   "source": [
    "optimal_nb_buffer(nand_8bit_branch.C_off + input_buffer.C_load, input_buffer.C_in_gate, TAU_RATIO)"
   ]
  },
  {
   "cell_type": "markdown",
   "metadata": {},
   "source": [
    "The optimal number of buffers is 4. Let's add them"
   ]
  },
  {
   "cell_type": "code",
   "execution_count": 8,
   "metadata": {},
   "outputs": [
    {
     "name": "stdout",
     "output_type": "stream",
     "text": [
      "Circuit name: RowDecoder 1x - 8bit - buffers\n",
      "╒════════════╤════════════════╤═══════════╤═══════════╤═══════════╤═══════════╤════════════════════╤═════════════════╕\n",
      "│            │ input_buffer   │ buffer1   │ buffer2   │ buffer3   │ buffer4   │ nand_8bit_branch   │ output_buffer   │\n",
      "╞════════════╪════════════════╪═══════════╪═══════════╪═══════════╪═══════════╪════════════════════╪═════════════════╡\n",
      "│ p          │ 1.000          │ 1.000     │ 1.000     │ 1.000     │ 1.000     │ 8.000              │ 1.000           │\n",
      "├────────────┼────────────────┼───────────┼───────────┼───────────┼───────────┼────────────────────┼─────────────────┤\n",
      "│ g          │ 1.000          │ 1.000     │ 1.000     │ 1.000     │ 1.000     │ 3.000              │ 1.000           │\n",
      "├────────────┼────────────────┼───────────┼───────────┼───────────┼───────────┼────────────────────┼─────────────────┤\n",
      "│ h          │ 1.000          │ 1.000     │ 1.000     │ 1.000     │ 3.000     │ 0.333              │ 21.780          │\n",
      "├────────────┼────────────────┼───────────┼───────────┼───────────┼───────────┼────────────────────┼─────────────────┤\n",
      "│ b          │ 1.000          │ 1.000     │ 1.000     │ 1.000     │ 128.000   │ 1.000              │ 1.000           │\n",
      "├────────────┼────────────────┼───────────┼───────────┼───────────┼───────────┼────────────────────┼─────────────────┤\n",
      "│ gamma      │ 1.000          │ 1.000     │ 1.000     │ 1.000     │ 1.000     │ 1.000              │ 1.000           │\n",
      "├────────────┼────────────────┼───────────┼───────────┼───────────┼───────────┼────────────────────┼─────────────────┤\n",
      "│ Cin        │ 500 aF         │ 500 aF    │ 500 aF    │ 500 aF    │ 500 aF    │ 1.5 fF             │ 500 aF          │\n",
      "├────────────┼────────────────┼───────────┼───────────┼───────────┼───────────┼────────────────────┼─────────────────┤\n",
      "│ Cload      │ 500 aF         │ 500 aF    │ 500 aF    │ 500 aF    │ 1.5 fF    │ 500 aF             │ 10.89 fF        │\n",
      "├────────────┼────────────────┼───────────┼───────────┼───────────┼───────────┼────────────────────┼─────────────────┤\n",
      "│ C_off      │ 0 F            │ 0 F       │ 0 F       │ 0 F       │ 0 F       │ 190.5 fF           │ 0 F             │\n",
      "├────────────┼────────────────┼───────────┼───────────┼───────────┼───────────┼────────────────────┼─────────────────┤\n",
      "│ gate delay │ 9.897 ps       │ 9.897 ps  │ 9.897 ps  │ 9.897 ps  │ 1.4335 ns │ 53.157 ps          │ 87.137 ps       │\n",
      "╘════════════╧════════════════╧═══════════╧═══════════╧═══════════╧═══════════╧════════════════════╧═════════════════╛\n",
      "\n",
      "Delay of the circuit = 1.6134 ns\n",
      "Minimum achievable delay = 181.06 ps\n",
      "Number of stages = 7\n",
      "Tau_2 = 3.717 ps\n",
      "Tau_ratio = 1.663\n",
      "F_hat = 3.634\n",
      "Final load = 21.780 * C_in_inv\n",
      "H = 21.780\n",
      "G = 3.000\n",
      "B = 128.000\n"
     ]
    }
   ],
   "source": [
    "buffer1 = Inverter(\"buffer1\", BETA_OPT, BETA_OPT, 1, DUMMY_METAL, C_INT_TRANS, TAU_RATIO)\n",
    "buffer2 = Inverter(\"buffer2\", BETA_OPT, BETA_OPT, 1, DUMMY_METAL, C_INT_TRANS, TAU_RATIO)\n",
    "buffer3 = Inverter(\"buffer3\", BETA_OPT, BETA_OPT, 1, DUMMY_METAL, C_INT_TRANS, TAU_RATIO)\n",
    "buffer4 = Inverter(\"buffer4\", BETA_OPT, BETA_OPT, 1, DUMMY_METAL, C_INT_TRANS, TAU_RATIO)\n",
    "\n",
    "rowdec_1x_gates_buffers = [input_buffer, buffer1, buffer2, buffer3, buffer4, nand_8bit_branch, output_buffer]\n",
    "rowdec_1x_buffers = Circuit(\"RowDecoder 1x - 8bit - buffers\", rowdec_1x_gates_buffers, TAU_2, TAU_RATIO, (post_WL_metal.Ctot + BITCELL_CAP) / C_GATE_INV)\n",
    "rowdec_1x_buffers.info()"
   ]
  },
  {
   "cell_type": "code",
   "execution_count": 9,
   "metadata": {},
   "outputs": [
    {
     "name": "stdout",
     "output_type": "stream",
     "text": [
      "Circuit name: RowDecoder 1x - 8bit - buffers_optimized\n",
      "╒════════════╤════════════════════╤═══════════════╤═══════════════╤═══════════════╤═══════════════╤════════════════════════╤═════════════════════╕\n",
      "│            │ input_buffer_opt   │ buffer1_opt   │ buffer2_opt   │ buffer3_opt   │ buffer4_opt   │ nand_8bit_branch_opt   │ output_buffer_opt   │\n",
      "╞════════════╪════════════════════╪═══════════════╪═══════════════╪═══════════════╪═══════════════╪════════════════════════╪═════════════════════╡\n",
      "│ p          │ 1.000              │ 1.000         │ 1.000         │ 1.000         │ 1.000         │ 8.000                  │ 1.000               │\n",
      "├────────────┼────────────────────┼───────────────┼───────────────┼───────────────┼───────────────┼────────────────────────┼─────────────────────┤\n",
      "│ g          │ 1.000              │ 1.000         │ 1.000         │ 1.000         │ 1.000         │ 3.000                  │ 1.000               │\n",
      "├────────────┼────────────────────┼───────────────┼───────────────┼───────────────┼───────────────┼────────────────────────┼─────────────────────┤\n",
      "│ h          │ 3.634              │ 3.634         │ 3.634         │ 3.634         │ 0.028         │ 1.211                  │ 3.634               │\n",
      "├────────────┼────────────────────┼───────────────┼───────────────┼───────────────┼───────────────┼────────────────────────┼─────────────────────┤\n",
      "│ b          │ 1.000              │ 1.000         │ 1.000         │ 1.000         │ 128.000       │ 1.000                  │ 1.000               │\n",
      "├────────────┼────────────────────┼───────────────┼───────────────┼───────────────┼───────────────┼────────────────────────┼─────────────────────┤\n",
      "│ gamma      │ 1.000              │ 3.634         │ 13.203        │ 47.976        │ 174.328       │ 1.650                  │ 5.994               │\n",
      "├────────────┼────────────────────┼───────────────┼───────────────┼───────────────┼───────────────┼────────────────────────┼─────────────────────┤\n",
      "│ Cin        │ 500 aF             │ 1.8168 fF     │ 6.6017 fF     │ 23.988 fF     │ 87.164 fF     │ 2.4744 fF              │ 2.997 fF            │\n",
      "├────────────┼────────────────────┼───────────────┼───────────────┼───────────────┼───────────────┼────────────────────────┼─────────────────────┤\n",
      "│ Cload      │ 1.8168 fF          │ 6.6017 fF     │ 23.988 fF     │ 87.164 fF     │ 2.4744 fF     │ 2.997 fF               │ 10.89 fF            │\n",
      "├────────────┼────────────────────┼───────────────┼───────────────┼───────────────┼───────────────┼────────────────────────┼─────────────────────┤\n",
      "│ C_off      │ 0 F                │ 0 F           │ 0 F           │ 0 F           │ 0 F           │ 314.25 fF              │ 0 F                 │\n",
      "├────────────┼────────────────────┼───────────────┼───────────────┼───────────────┼───────────────┼────────────────────────┼─────────────────────┤\n",
      "│ gate delay │ 19.686 ps          │ 19.686 ps     │ 19.686 ps     │ 19.686 ps     │ 19.686 ps     │ 62.946 ps              │ 19.686 ps           │\n",
      "╘════════════╧════════════════════╧═══════════════╧═══════════════╧═══════════════╧═══════════════╧════════════════════════╧═════════════════════╛\n",
      "\n",
      "Delay of the circuit = 181.06 ps\n",
      "Minimum achievable delay = 181.06 ps\n",
      "Number of stages = 7\n",
      "Tau_2 = 3.717 ps\n",
      "Tau_ratio = 1.663\n",
      "F_hat = 3.634\n",
      "Final load = 21.780 * C_in_inv\n",
      "H = 21.780\n",
      "G = 3.000\n",
      "B = 128.000\n"
     ]
    }
   ],
   "source": [
    "# Optimizing circuit size\n",
    "rowdec_1x_opt = optimize_circuit_size(rowdec_1x_buffers)\n",
    "rowdec_1x_opt.info()"
   ]
  },
  {
   "cell_type": "markdown",
   "metadata": {},
   "source": [
    "We haven't included the wiring yet, but the optimised circuit already has very large buffers. Therefore, this doesn't appear to be an ideal solution. Let's investigate alternative architectures to determine if there is any room for improvement."
   ]
  },
  {
   "attachments": {
    "rowdec_1x_4bit.jpeg": {
     "image/jpeg": "[encoded data removed]"
    }
   },
   "cell_type": "markdown",
   "metadata": {},
   "source": [
    "## Architecture 2\n",
    "The second architecture we want to explore is the following\\\n",
    "\\\n",
    "![rowdec_1x_4bit.jpeg](attachment:rowdec_1x_4bit.jpeg)\n",
    "#### Define all the gates"
   ]
  },
  {
   "cell_type": "code",
   "execution_count": 10,
   "metadata": {},
   "outputs": [],
   "source": [
    "nand_4bit_list = list()\n",
    "\n",
    "for i in range(INPUT_BUFFER_FO):\n",
    "    new_nand_4bit = Nand(\"nand_4bit\" + str(i), BETA_OPT, BETA_OPT, 1, NAND_FI_2ND_ARCH, DUMMY_METAL, C_INT_TRANS, TAU_RATIO)\n",
    "    nand_4bit_list.append(new_nand_4bit)\n",
    "\n",
    "nand_4bit_branch = Branch(\"nand_4bit_branch\", nand_4bit_list)\n",
    "nor_2nd_arch = Nor(\"nor_2nd_arch\", BETA_OPT, BETA_OPT, 1, 2, DUMMY_METAL, C_INT_TRANS, TAU_RATIO)"
   ]
  },
  {
   "cell_type": "markdown",
   "metadata": {},
   "source": [
    "#### Optimize the circuit size without the Pre2Post Wire (with buffers)"
   ]
  },
  {
   "cell_type": "code",
   "execution_count": 11,
   "metadata": {},
   "outputs": [
    {
     "name": "stdout",
     "output_type": "stream",
     "text": [
      "Circuit name: RowDecoder 1x - 4bit\n",
      "╒════════════╤════════════════╤═══════════╤═══════════╤═══════════╤═══════════╤════════════════════╤════════════════╕\n",
      "│            │ input_buffer   │ buffer1   │ buffer2   │ buffer3   │ buffer4   │ nand_4bit_branch   │ nor_2nd_arch   │\n",
      "╞════════════╪════════════════╪═══════════╪═══════════╪═══════════╪═══════════╪════════════════════╪════════════════╡\n",
      "│ p          │ 1.000          │ 1.000     │ 1.000     │ 1.000     │ 1.000     │ 4.000              │ 2.000          │\n",
      "├────────────┼────────────────┼───────────┼───────────┼───────────┼───────────┼────────────────────┼────────────────┤\n",
      "│ g          │ 1.000          │ 1.000     │ 1.000     │ 1.000     │ 1.000     │ 1.857              │ 1.714          │\n",
      "├────────────┼────────────────┼───────────┼───────────┼───────────┼───────────┼────────────────────┼────────────────┤\n",
      "│ h          │ 1.000          │ 1.000     │ 1.000     │ 1.000     │ 1.857     │ 0.923              │ 12.705         │\n",
      "├────────────┼────────────────┼───────────┼───────────┼───────────┼───────────┼────────────────────┼────────────────┤\n",
      "│ b          │ 1.000          │ 1.000     │ 1.000     │ 1.000     │ 128.000   │ 1.000              │ 1.000          │\n",
      "├────────────┼────────────────┼───────────┼───────────┼───────────┼───────────┼────────────────────┼────────────────┤\n",
      "│ gamma      │ 1.000          │ 1.000     │ 1.000     │ 1.000     │ 1.000     │ 1.000              │ 1.000          │\n",
      "├────────────┼────────────────┼───────────┼───────────┼───────────┼───────────┼────────────────────┼────────────────┤\n",
      "│ Cin        │ 500 aF         │ 500 aF    │ 500 aF    │ 500 aF    │ 500 aF    │ 928.57 aF          │ 857.14 aF      │\n",
      "├────────────┼────────────────┼───────────┼───────────┼───────────┼───────────┼────────────────────┼────────────────┤\n",
      "│ Cload      │ 500 aF         │ 500 aF    │ 500 aF    │ 500 aF    │ 928.57 aF │ 857.14 aF          │ 10.89 fF       │\n",
      "├────────────┼────────────────┼───────────┼───────────┼───────────┼───────────┼────────────────────┼────────────────┤\n",
      "│ C_off      │ 0 F            │ 0 F       │ 0 F       │ 0 F       │ 0 F       │ 117.93 fF          │ 0 F            │\n",
      "├────────────┼────────────────┼───────────┼───────────┼───────────┼───────────┼────────────────────┼────────────────┤\n",
      "│ gate delay │ 9.897 ps       │ 9.897 ps  │ 9.897 ps  │ 9.897 ps  │ 889.76 ps │ 31.092 ps          │ 93.317 ps      │\n",
      "╘════════════╧════════════════╧═══════════╧═══════════╧═══════════╧═══════════╧════════════════════╧════════════════╛\n",
      "\n",
      "Delay of the circuit = 1.0538 ns\n",
      "Minimum achievable delay = 163.33 ps\n",
      "Number of stages = 7\n",
      "Tau_2 = 3.717 ps\n",
      "Tau_ratio = 1.663\n",
      "F_hat = 3.665\n",
      "Final load = 21.780 * C_in_inv\n",
      "H = 21.780\n",
      "G = 3.184\n",
      "B = 128.000\n"
     ]
    }
   ],
   "source": [
    "rowdec_1x_4bit_gates = [input_buffer, buffer1, buffer2, buffer3, buffer4, nand_4bit_branch, nor_2nd_arch]\n",
    "rowdec_1x_4bit = Circuit(\"RowDecoder 1x - 4bit\", rowdec_1x_4bit_gates, TAU_2, TAU_RATIO, (post_WL_metal.Ctot + BITCELL_CAP) / C_GATE_INV)\n",
    "rowdec_1x_4bit.info()"
   ]
  },
  {
   "cell_type": "markdown",
   "metadata": {},
   "source": [
    "Optimize the size of the circuit"
   ]
  },
  {
   "cell_type": "code",
   "execution_count": 12,
   "metadata": {},
   "outputs": [
    {
     "name": "stdout",
     "output_type": "stream",
     "text": [
      "Circuit name: RowDecoder 1x - 4bit_optimized\n",
      "╒════════════╤════════════════════╤═══════════════╤═══════════════╤═══════════════╤═══════════════╤════════════════════════╤════════════════════╕\n",
      "│            │ input_buffer_opt   │ buffer1_opt   │ buffer2_opt   │ buffer3_opt   │ buffer4_opt   │ nand_4bit_branch_opt   │ nor_2nd_arch_opt   │\n",
      "╞════════════╪════════════════════╪═══════════════╪═══════════════╪═══════════════╪═══════════════╪════════════════════════╪════════════════════╡\n",
      "│ p          │ 1.000              │ 1.000         │ 1.000         │ 1.000         │ 1.000         │ 4.000                  │ 2.000              │\n",
      "├────────────┼────────────────────┼───────────────┼───────────────┼───────────────┼───────────────┼────────────────────────┼────────────────────┤\n",
      "│ g          │ 1.000              │ 1.000         │ 1.000         │ 1.000         │ 1.000         │ 1.857                  │ 1.714              │\n",
      "├────────────┼────────────────────┼───────────────┼───────────────┼───────────────┼───────────────┼────────────────────────┼────────────────────┤\n",
      "│ h          │ 3.665              │ 3.665         │ 3.665         │ 3.665         │ 0.029         │ 1.973                  │ 2.138              │\n",
      "├────────────┼────────────────────┼───────────────┼───────────────┼───────────────┼───────────────┼────────────────────────┼────────────────────┤\n",
      "│ b          │ 1.000              │ 1.000         │ 1.000         │ 1.000         │ 128.000       │ 1.000                  │ 1.000              │\n",
      "├────────────┼────────────────────┼───────────────┼───────────────┼───────────────┼───────────────┼────────────────────────┼────────────────────┤\n",
      "│ gamma      │ 1.000              │ 3.665         │ 13.429        │ 49.214        │ 180.349       │ 2.780                  │ 5.943              │\n",
      "├────────────┼────────────────────┼───────────────┼───────────────┼───────────────┼───────────────┼────────────────────────┼────────────────────┤\n",
      "│ Cin        │ 500 aF             │ 1.8323 fF     │ 6.7147 fF     │ 24.607 fF     │ 90.174 fF     │ 2.5817 fF              │ 5.0943 fF          │\n",
      "├────────────┼────────────────────┼───────────────┼───────────────┼───────────────┼───────────────┼────────────────────────┼────────────────────┤\n",
      "│ Cload      │ 1.8323 fF          │ 6.7147 fF     │ 24.607 fF     │ 90.174 fF     │ 2.5817 fF     │ 5.0943 fF              │ 10.89 fF           │\n",
      "├────────────┼────────────────────┼───────────────┼───────────────┼───────────────┼───────────────┼────────────────────────┼────────────────────┤\n",
      "│ C_off      │ 0 F                │ 0 F           │ 0 F           │ 0 F           │ 0 F           │ 327.87 fF              │ 0 F                │\n",
      "├────────────┼────────────────────┼───────────────┼───────────────┼───────────────┼───────────────┼────────────────────────┼────────────────────┤\n",
      "│ gate delay │ 19.801 ps          │ 19.801 ps     │ 19.801 ps     │ 19.801 ps     │ 19.801 ps     │ 38.341 ps              │ 25.981 ps          │\n",
      "╘════════════╧════════════════════╧═══════════════╧═══════════════╧═══════════════╧═══════════════╧════════════════════════╧════════════════════╛\n",
      "\n",
      "Delay of the circuit = 163.33 ps\n",
      "Minimum achievable delay = 163.33 ps\n",
      "Number of stages = 7\n",
      "Tau_2 = 3.717 ps\n",
      "Tau_ratio = 1.663\n",
      "F_hat = 3.665\n",
      "Final load = 21.780 * C_in_inv\n",
      "H = 21.780\n",
      "G = 3.184\n",
      "B = 128.000\n"
     ]
    }
   ],
   "source": [
    "rowdec_1x_4bit_opt = optimize_circuit_size(rowdec_1x_4bit)\n",
    "rowdec_1x_4bit_opt.info()"
   ]
  },
  {
   "cell_type": "markdown",
   "metadata": {},
   "source": [
    "Here again, we haven't included the wiring yet, but the optimised circuit already has very large buffers. Therefore, this doesn't appear to be, again, an ideal solution. Let's investigate the third architecture to determine if there is any room for improvement."
   ]
  },
  {
   "attachments": {
    "rowdec_1x_2bit.jpeg": {
     "image/jpeg": "[encoded data removed]"
    }
   },
   "cell_type": "markdown",
   "metadata": {},
   "source": [
    "## Architecture 3 - 2bit Nand\n",
    "The 3rd and last architecture presented for the 1x RowDecoder is the following\\\n",
    "\\\n",
    "![rowdec_1x_2bit.jpeg](attachment:rowdec_1x_2bit.jpeg)\n",
    "#### Define all the gates"
   ]
  },
  {
   "cell_type": "code",
   "execution_count": 13,
   "metadata": {},
   "outputs": [],
   "source": [
    "nand_2bit_list = list()\n",
    "\n",
    "for i in range(INPUT_BUFFER_FO):\n",
    "    new_nand_2bit = Nand(\"nand_\" + str(i), BETA_OPT, BETA_OPT, 1 , NAND_FI_3RD_ARCH, DUMMY_METAL, C_INT_TRANS, TAU_RATIO)\n",
    "    nand_2bit_list.append(new_nand_2bit)\n",
    "\n",
    "nand_2bit_branch = Branch(\"nand_2bit_branch\", nand_2bit_list)\n",
    "\n",
    "nor_3rd_arch = Nor(\"nor_3rd_arch\", BETA_OPT, BETA_OPT, 1, 2, DUMMY_METAL, C_INT_TRANS, TAU_RATIO)\n",
    "nand_3rd_arch = Nand(\"nand_3rd_arch\", BETA_OPT, BETA_OPT, 1, 2, DUMMY_METAL, C_INT_TRANS, TAU_RATIO)\n",
    "inv_3rd_arch = Inverter(\"inv_3rd_arch\", BETA_OPT, BETA_OPT, 1, DUMMY_METAL, C_INT_TRANS, TAU_RATIO)"
   ]
  },
  {
   "cell_type": "markdown",
   "metadata": {},
   "source": [
    "#### Optimize the circuit size without the Pre2Post Wire (with buffers)"
   ]
  },
  {
   "cell_type": "code",
   "execution_count": 14,
   "metadata": {},
   "outputs": [
    {
     "name": "stdout",
     "output_type": "stream",
     "text": [
      "Circuit name: RowDecoder 1x - 2bit\n",
      "╒════════════╤════════════════╤═══════════╤═══════════╤═══════════╤═══════════╤════════════════════╤════════════════╤═════════════════╤════════════════╕\n",
      "│            │ input_buffer   │ buffer1   │ buffer2   │ buffer3   │ buffer4   │ nand_2bit_branch   │ nor_3rd_arch   │ nand_3rd_arch   │ inv_3rd_arch   │\n",
      "╞════════════╪════════════════╪═══════════╪═══════════╪═══════════╪═══════════╪════════════════════╪════════════════╪═════════════════╪════════════════╡\n",
      "│ p          │ 1.000          │ 1.000     │ 1.000     │ 1.000     │ 1.000     │ 2.000              │ 2.000          │ 2.000           │ 1.000          │\n",
      "├────────────┼────────────────┼───────────┼───────────┼───────────┼───────────┼────────────────────┼────────────────┼─────────────────┼────────────────┤\n",
      "│ g          │ 1.000          │ 1.000     │ 1.000     │ 1.000     │ 1.000     │ 1.286              │ 1.714          │ 1.286           │ 1.000          │\n",
      "├────────────┼────────────────┼───────────┼───────────┼───────────┼───────────┼────────────────────┼────────────────┼─────────────────┼────────────────┤\n",
      "│ h          │ 1.000          │ 1.000     │ 1.000     │ 1.000     │ 1.286     │ 1.333              │ 0.750          │ 0.778           │ 21.780         │\n",
      "├────────────┼────────────────┼───────────┼───────────┼───────────┼───────────┼────────────────────┼────────────────┼─────────────────┼────────────────┤\n",
      "│ b          │ 1.000          │ 1.000     │ 1.000     │ 1.000     │ 128.000   │ 1.000              │ 1.000          │ 1.000           │ 1.000          │\n",
      "├────────────┼────────────────┼───────────┼───────────┼───────────┼───────────┼────────────────────┼────────────────┼─────────────────┼────────────────┤\n",
      "│ gamma      │ 1.000          │ 1.000     │ 1.000     │ 1.000     │ 1.000     │ 1.000              │ 1.000          │ 1.000           │ 1.000          │\n",
      "├────────────┼────────────────┼───────────┼───────────┼───────────┼───────────┼────────────────────┼────────────────┼─────────────────┼────────────────┤\n",
      "│ Cin        │ 500 aF         │ 500 aF    │ 500 aF    │ 500 aF    │ 500 aF    │ 642.86 aF          │ 857.14 aF      │ 642.86 aF       │ 500 aF         │\n",
      "├────────────┼────────────────┼───────────┼───────────┼───────────┼───────────┼────────────────────┼────────────────┼─────────────────┼────────────────┤\n",
      "│ Cload      │ 500 aF         │ 500 aF    │ 500 aF    │ 500 aF    │ 642.86 aF │ 857.14 aF          │ 642.86 aF      │ 500 aF          │ 10.89 fF       │\n",
      "├────────────┼────────────────┼───────────┼───────────┼───────────┼───────────┼────────────────────┼────────────────┼─────────────────┼────────────────┤\n",
      "│ C_off      │ 0 F            │ 0 F       │ 0 F       │ 0 F       │ 0 F       │ 81.643 fF          │ 0 F            │ 0 F             │ 0 F            │\n",
      "├────────────┼────────────────┼───────────┼───────────┼───────────┼───────────┼────────────────────┼────────────────┼─────────────────┼────────────────┤\n",
      "│ gate delay │ 9.897 ps       │ 9.897 ps  │ 9.897 ps  │ 9.897 ps  │ 617.89 ps │ 18.732 ps          │ 17.139 ps      │ 16.077 ps       │ 87.137 ps      │\n",
      "╘════════════╧════════════════╧═══════════╧═══════════╧═══════════╧═══════════╧════════════════════╧════════════════╧═════════════════╧════════════════╛\n",
      "\n",
      "Delay of the circuit = 796.56 ps\n",
      "Minimum achievable delay = 164.84 ps\n",
      "Number of stages = 9\n",
      "Tau_2 = 3.717 ps\n",
      "Tau_ratio = 1.663\n",
      "F_hat = 2.711\n",
      "Final load = 21.780 * C_in_inv\n",
      "H = 21.780\n",
      "G = 2.834\n",
      "B = 128.000\n"
     ]
    }
   ],
   "source": [
    "rowdec_1x_2bit_gates = [input_buffer, buffer1, buffer2, buffer3, buffer4, nand_2bit_branch, nor_3rd_arch, nand_3rd_arch, inv_3rd_arch]\n",
    "rowdec_1x_2bit = Circuit(\"RowDecoder 1x - 2bit\", rowdec_1x_2bit_gates, TAU_2, TAU_RATIO, (post_WL_metal.Ctot + BITCELL_CAP) / C_GATE_INV)\n",
    "rowdec_1x_2bit.info()"
   ]
  },
  {
   "cell_type": "code",
   "execution_count": 15,
   "metadata": {},
   "outputs": [
    {
     "name": "stdout",
     "output_type": "stream",
     "text": [
      "Circuit name: RowDecoder 1x - 2bit_optimized\n",
      "╒════════════╤════════════════════╤═══════════════╤═══════════════╤═══════════════╤═══════════════╤════════════════════════╤════════════════════╤═════════════════════╤════════════════════╕\n",
      "│            │ input_buffer_opt   │ buffer1_opt   │ buffer2_opt   │ buffer3_opt   │ buffer4_opt   │ nand_2bit_branch_opt   │ nor_3rd_arch_opt   │ nand_3rd_arch_opt   │ inv_3rd_arch_opt   │\n",
      "╞════════════╪════════════════════╪═══════════════╪═══════════════╪═══════════════╪═══════════════╪════════════════════════╪════════════════════╪═════════════════════╪════════════════════╡\n",
      "│ p          │ 1.000              │ 1.000         │ 1.000         │ 1.000         │ 1.000         │ 2.000                  │ 2.000              │ 2.000               │ 1.000              │\n",
      "├────────────┼────────────────────┼───────────────┼───────────────┼───────────────┼───────────────┼────────────────────────┼────────────────────┼─────────────────────┼────────────────────┤\n",
      "│ g          │ 1.000              │ 1.000         │ 1.000         │ 1.000         │ 1.000         │ 1.286                  │ 1.714              │ 1.286               │ 1.000              │\n",
      "├────────────┼────────────────────┼───────────────┼───────────────┼───────────────┼───────────────┼────────────────────────┼────────────────────┼─────────────────────┼────────────────────┤\n",
      "│ h          │ 2.711              │ 2.711         │ 2.711         │ 2.711         │ 0.021         │ 2.108                  │ 1.581              │ 2.108               │ 2.711              │\n",
      "├────────────┼────────────────────┼───────────────┼───────────────┼───────────────┼───────────────┼────────────────────────┼────────────────────┼─────────────────────┼────────────────────┤\n",
      "│ b          │ 1.000              │ 1.000         │ 1.000         │ 1.000         │ 128.000       │ 1.000                  │ 1.000              │ 1.000               │ 1.000              │\n",
      "├────────────┼────────────────────┼───────────────┼───────────────┼───────────────┼───────────────┼────────────────────────┼────────────────────┼─────────────────────┼────────────────────┤\n",
      "│ gamma      │ 1.000              │ 2.711         │ 7.348         │ 19.917        │ 53.987        │ 0.889                  │ 1.406              │ 2.964               │ 8.035              │\n",
      "├────────────┼────────────────────┼───────────────┼───────────────┼───────────────┼───────────────┼────────────────────────┼────────────────────┼─────────────────────┼────────────────────┤\n",
      "│ Cin        │ 500 aF             │ 1.3553 fF     │ 3.6738 fF     │ 9.9583 fF     │ 26.993 fF     │ 571.63 aF              │ 1.2052 fF          │ 1.9056 fF           │ 4.0175 fF          │\n",
      "├────────────┼────────────────────┼───────────────┼───────────────┼───────────────┼───────────────┼────────────────────────┼────────────────────┼─────────────────────┼────────────────────┤\n",
      "│ Cload      │ 1.3553 fF          │ 3.6738 fF     │ 9.9583 fF     │ 26.993 fF     │ 571.63 aF     │ 1.2052 fF              │ 1.9056 fF          │ 4.0175 fF           │ 10.89 fF           │\n",
      "├────────────┼────────────────────┼───────────────┼───────────────┼───────────────┼───────────────┼────────────────────────┼────────────────────┼─────────────────────┼────────────────────┤\n",
      "│ C_off      │ 0 F                │ 0 F           │ 0 F           │ 0 F           │ 0 F           │ 72.597 fF              │ 0 F                │ 0 F                 │ 0 F                │\n",
      "├────────────┼────────────────────┼───────────────┼───────────────┼───────────────┼───────────────┼────────────────────────┼────────────────────┼─────────────────────┼────────────────────┤\n",
      "│ gate delay │ 16.255 ps          │ 16.255 ps     │ 16.255 ps     │ 16.255 ps     │ 16.255 ps     │ 22.435 ps              │ 22.435 ps          │ 22.435 ps           │ 16.255 ps          │\n",
      "╘════════════╧════════════════════╧═══════════════╧═══════════════╧═══════════════╧═══════════════╧════════════════════════╧════════════════════╧═════════════════════╧════════════════════╛\n",
      "\n",
      "Delay of the circuit = 164.84 ps\n",
      "Minimum achievable delay = 164.84 ps\n",
      "Number of stages = 9\n",
      "Tau_2 = 3.717 ps\n",
      "Tau_ratio = 1.663\n",
      "F_hat = 2.711\n",
      "Final load = 21.780 * C_in_inv\n",
      "H = 21.780\n",
      "G = 2.834\n",
      "B = 128.000\n"
     ]
    }
   ],
   "source": [
    "rowdec_1x_2bit_opt = optimize_circuit_size(rowdec_1x_2bit)\n",
    "rowdec_1x_2bit_opt.info()"
   ]
  },
  {
   "cell_type": "markdown",
   "metadata": {},
   "source": [
    "Here the size are better, so we can try to see what happens if we add the Pre2Post Wire"
   ]
  },
  {
   "cell_type": "code",
   "execution_count": 16,
   "metadata": {},
   "outputs": [],
   "source": [
    "GAMMA_NAND_BRANCH_POST = 1\n",
    "GAMMA_NOR_POST_1 = 2\n",
    "GAMMA_NAND_POST_2 = 3\n",
    "GAMMA_INV_POST = 8"
   ]
  },
  {
   "cell_type": "markdown",
   "metadata": {},
   "source": [
    "We chosed to include the wire as an equivalent fanout to the gate that drives the wire"
   ]
  },
  {
   "cell_type": "code",
   "execution_count": 17,
   "metadata": {},
   "outputs": [
    {
     "name": "stdout",
     "output_type": "stream",
     "text": [
      "Additional Nand FanOut = 59\n"
     ]
    }
   ],
   "source": [
    "# Real size nand\n",
    "nand = Nand(\"nand\", BETA_OPT, BETA_OPT, GAMMA_NAND_BRANCH_POST, NAND_FI_3RD_ARCH, DUMMY_METAL, C_INT_TRANS, TAU_RATIO)\n",
    "\n",
    "# If we increase the fanout of the sized nand to achieve a Coff that is Coff_branch + Cwire\n",
    "additional_FO = round(pre_post_metal.Ctot / nand.C_in_gate)\n",
    "print(f\"Additional Nand FanOut = {additional_FO}\")"
   ]
  },
  {
   "cell_type": "markdown",
   "metadata": {},
   "source": [
    "Create the final PostDecoder, including the wire"
   ]
  },
  {
   "cell_type": "code",
   "execution_count": 18,
   "metadata": {},
   "outputs": [],
   "source": [
    "nand_branch_with_wire = list()\n",
    "for i in range(INPUT_BUFFER_FO + additional_FO):\n",
    "    nand_1x_postDec =  Nand(\"nand_4x_post_\" + str(i), BETA_OPT, BETA_OPT, GAMMA_NAND_BRANCH_POST, NAND_FI_3RD_ARCH, DUMMY_METAL, C_INT_TRANS, TAU_RATIO)\n",
    "    nand_branch_with_wire.append(nand_1x_postDec)\n",
    "\n",
    "nand_branch_wire = Branch(\"nand_post\", nand_branch_with_wire)\n",
    "\n",
    "nor_3rd_final = Nor(\"nor_3rd_final\", BETA_OPT, BETA_OPT, GAMMA_NOR_POST_1, 2, DUMMY_METAL, C_INT_TRANS, TAU_RATIO)\n",
    "nand_3rd_final = Nand(\"nand_3rd_final\", BETA_OPT, BETA_OPT, GAMMA_NAND_POST_2, 2, DUMMY_METAL, C_INT_TRANS, TAU_RATIO)\n",
    "inv_3rd_final = Inverter(\"inv_3rd_final\", BETA_OPT, BETA_OPT, GAMMA_INV_POST, DUMMY_METAL, C_INT_TRANS, TAU_RATIO)"
   ]
  },
  {
   "cell_type": "markdown",
   "metadata": {},
   "source": [
    "Creating the predecoder circuit with the actual load (in this case the predecoder is only a suite of buffers)"
   ]
  },
  {
   "cell_type": "code",
   "execution_count": 19,
   "metadata": {},
   "outputs": [
    {
     "name": "stdout",
     "output_type": "stream",
     "text": [
      "Circuit name: predec\n",
      "╒════════════╤════════════════╤═══════════╤═══════════╤═══════════╤═══════════╕\n",
      "│            │ input_buffer   │ buffer1   │ buffer2   │ buffer3   │ buffer4   │\n",
      "╞════════════╪════════════════╪═══════════╪═══════════╪═══════════╪═══════════╡\n",
      "│ p          │ 1.000          │ 1.000     │ 1.000     │ 1.000     │ 1.000     │\n",
      "├────────────┼────────────────┼───────────┼───────────┼───────────┼───────────┤\n",
      "│ g          │ 1.000          │ 1.000     │ 1.000     │ 1.000     │ 1.000     │\n",
      "├────────────┼────────────────┼───────────┼───────────┼───────────┼───────────┤\n",
      "│ h          │ 1.000          │ 1.000     │ 1.000     │ 1.000     │ 240.429   │\n",
      "├────────────┼────────────────┼───────────┼───────────┼───────────┼───────────┤\n",
      "│ b          │ 1.000          │ 1.000     │ 1.000     │ 1.000     │ 128.000   │\n",
      "├────────────┼────────────────┼───────────┼───────────┼───────────┼───────────┤\n",
      "│ gamma      │ 1.000          │ 1.000     │ 1.000     │ 1.000     │ 1.000     │\n",
      "├────────────┼────────────────┼───────────┼───────────┼───────────┼───────────┤\n",
      "│ Cin        │ 500 aF         │ 500 aF    │ 500 aF    │ 500 aF    │ 500 aF    │\n",
      "├────────────┼────────────────┼───────────┼───────────┼───────────┼───────────┤\n",
      "│ Cload      │ 500 aF         │ 500 aF    │ 500 aF    │ 500 aF    │ 120.21 fF │\n",
      "├────────────┼────────────────┼───────────┼───────────┼───────────┼───────────┤\n",
      "│ C_off      │ 0 F            │ 0 F       │ 0 F       │ 0 F       │ 0 F       │\n",
      "├────────────┼────────────────┼───────────┼───────────┼───────────┼───────────┤\n",
      "│ gate delay │ 9.897 ps       │ 9.897 ps  │ 9.897 ps  │ 9.897 ps  │ 114.4 ns  │\n",
      "╘════════════╧════════════════╧═══════════╧═══════════╧═══════════╧═══════════╛\n",
      "\n",
      "Delay of the circuit = 114.44 ns\n",
      "Minimum achievable delay = 86.536 ps\n",
      "Number of stages = 5\n",
      "Tau_2 = 3.717 ps\n",
      "Tau_ratio = 1.663\n",
      "F_hat = 2.994\n",
      "Final load = 240.429 * C_in_inv\n",
      "H = 240.429\n",
      "G = 1.000\n",
      "B = 1.000\n"
     ]
    }
   ],
   "source": [
    "predec_gates = [input_buffer, buffer1, buffer2, buffer3, buffer4]\n",
    "predec = Circuit(\"predec\", predec_gates, TAU_2, TAU_RATIO, (nand_branch_wire.C_in_gate + nand_branch_wire.C_off) / C_GATE_INV)\n",
    "predec.info()"
   ]
  },
  {
   "cell_type": "code",
   "execution_count": 20,
   "metadata": {},
   "outputs": [
    {
     "name": "stdout",
     "output_type": "stream",
     "text": [
      "Circuit name: predec_optimized\n",
      "╒════════════╤════════════════════╤═══════════════╤═══════════════╤═══════════════╤═══════════════╕\n",
      "│            │ input_buffer_opt   │ buffer1_opt   │ buffer2_opt   │ buffer3_opt   │ buffer4_opt   │\n",
      "╞════════════╪════════════════════╪═══════════════╪═══════════════╪═══════════════╪═══════════════╡\n",
      "│ p          │ 1.000              │ 1.000         │ 1.000         │ 1.000         │ 1.000         │\n",
      "├────────────┼────────────────────┼───────────────┼───────────────┼───────────────┼───────────────┤\n",
      "│ g          │ 1.000              │ 1.000         │ 1.000         │ 1.000         │ 1.000         │\n",
      "├────────────┼────────────────────┼───────────────┼───────────────┼───────────────┼───────────────┤\n",
      "│ h          │ 2.994              │ 2.994         │ 2.994         │ 2.994         │ 2.994         │\n",
      "├────────────┼────────────────────┼───────────────┼───────────────┼───────────────┼───────────────┤\n",
      "│ b          │ 1.000              │ 1.000         │ 1.000         │ 1.000         │ 1.000         │\n",
      "├────────────┼────────────────────┼───────────────┼───────────────┼───────────────┼───────────────┤\n",
      "│ gamma      │ 1.000              │ 2.994         │ 8.962         │ 26.828        │ 80.314        │\n",
      "├────────────┼────────────────────┼───────────────┼───────────────┼───────────────┼───────────────┤\n",
      "│ Cin        │ 500 aF             │ 1.4968 fF     │ 4.4809 fF     │ 13.414 fF     │ 40.157 fF     │\n",
      "├────────────┼────────────────────┼───────────────┼───────────────┼───────────────┼───────────────┤\n",
      "│ Cload      │ 1.4968 fF          │ 4.4809 fF     │ 13.414 fF     │ 40.157 fF     │ 120.21 fF     │\n",
      "├────────────┼────────────────────┼───────────────┼───────────────┼───────────────┼───────────────┤\n",
      "│ C_off      │ 0 F                │ 0 F           │ 0 F           │ 0 F           │ 0 F           │\n",
      "├────────────┼────────────────────┼───────────────┼───────────────┼───────────────┼───────────────┤\n",
      "│ gate delay │ 17.307 ps          │ 17.307 ps     │ 17.307 ps     │ 17.307 ps     │ 17.307 ps     │\n",
      "╘════════════╧════════════════════╧═══════════════╧═══════════════╧═══════════════╧═══════════════╛\n",
      "\n",
      "Delay of the circuit = 86.536 ps\n",
      "Minimum achievable delay = 86.536 ps\n",
      "Number of stages = 5\n",
      "Tau_2 = 3.717 ps\n",
      "Tau_ratio = 1.663\n",
      "F_hat = 2.994\n",
      "Final load = 240.429 * C_in_inv\n",
      "H = 240.429\n",
      "G = 1.000\n",
      "B = 1.000\n"
     ]
    }
   ],
   "source": [
    "predec_opt = optimize_circuit_size(predec)\n",
    "predec_opt.info()"
   ]
  },
  {
   "cell_type": "code",
   "execution_count": 21,
   "metadata": {},
   "outputs": [],
   "source": [
    "GAMMA_BUFFER_1 = 3\n",
    "GAMMA_BUFFER_2 = 9\n",
    "GAMMA_BUFFER_3 = 27\n",
    "GAMMA_BUFFER_4 = 80"
   ]
  },
  {
   "cell_type": "markdown",
   "metadata": {},
   "source": [
    "Final circuit"
   ]
  },
  {
   "cell_type": "code",
   "execution_count": 22,
   "metadata": {},
   "outputs": [
    {
     "name": "stdout",
     "output_type": "stream",
     "text": [
      "Circuit name: RowDecoder 1x - Final\n",
      "╒════════════╤════════════════╤═══════════╤═══════════╤═══════════╤═══════════╤═════════════╤═════════════════╤══════════════════╤═════════════════╕\n",
      "│            │ input_buffer   │ buffer1   │ buffer2   │ buffer3   │ buffer4   │ nand_post   │ nor_3rd_final   │ nand_3rd_final   │ inv_3rd_final   │\n",
      "╞════════════╪════════════════╪═══════════╪═══════════╪═══════════╪═══════════╪═════════════╪═════════════════╪══════════════════╪═════════════════╡\n",
      "│ p          │ 1.000          │ 1.000     │ 1.000     │ 1.000     │ 1.000     │ 2.000       │ 2.000           │ 2.000            │ 1.000           │\n",
      "├────────────┼────────────────┼───────────┼───────────┼───────────┼───────────┼─────────────┼─────────────────┼──────────────────┼─────────────────┤\n",
      "│ g          │ 1.000          │ 1.000     │ 1.000     │ 1.000     │ 1.000     │ 1.286       │ 1.714           │ 1.286            │ 1.000           │\n",
      "├────────────┼────────────────┼───────────┼───────────┼───────────┼───────────┼─────────────┼─────────────────┼──────────────────┼─────────────────┤\n",
      "│ h          │ 3.000          │ 3.000     │ 3.000     │ 2.963     │ 0.016     │ 2.667       │ 1.125           │ 2.074            │ 2.723           │\n",
      "├────────────┼────────────────┼───────────┼───────────┼───────────┼───────────┼─────────────┼─────────────────┼──────────────────┼─────────────────┤\n",
      "│ b          │ 1.000          │ 1.000     │ 1.000     │ 1.000     │ 187.000   │ 1.000       │ 1.000           │ 1.000            │ 1.000           │\n",
      "├────────────┼────────────────┼───────────┼───────────┼───────────┼───────────┼─────────────┼─────────────────┼──────────────────┼─────────────────┤\n",
      "│ gamma      │ 1.000          │ 3.000     │ 9.000     │ 27.000    │ 80.000    │ 1.000       │ 2.000           │ 3.000            │ 8.000           │\n",
      "├────────────┼────────────────┼───────────┼───────────┼───────────┼───────────┼─────────────┼─────────────────┼──────────────────┼─────────────────┤\n",
      "│ Cin        │ 500 aF         │ 1.5 fF    │ 4.5 fF    │ 13.5 fF   │ 40 fF     │ 642.86 aF   │ 1.7143 fF       │ 1.9286 fF        │ 4 fF            │\n",
      "├────────────┼────────────────┼───────────┼───────────┼───────────┼───────────┼─────────────┼─────────────────┼──────────────────┼─────────────────┤\n",
      "│ Cload      │ 1.5 fF         │ 4.5 fF    │ 13.5 fF   │ 40 fF     │ 642.86 aF │ 1.7143 fF   │ 1.9286 fF       │ 4 fF             │ 10.89 fF        │\n",
      "├────────────┼────────────────┼───────────┼───────────┼───────────┼───────────┼─────────────┼─────────────────┼──────────────────┼─────────────────┤\n",
      "│ C_off      │ 0 F            │ 0 F       │ 0 F       │ 0 F       │ 0 F       │ 119.57 fF   │ 0 F             │ 0 F              │ 0 F             │\n",
      "├────────────┼────────────────┼───────────┼───────────┼───────────┼───────────┼─────────────┼─────────────────┼──────────────────┼─────────────────┤\n",
      "│ gate delay │ 17.331 ps      │ 17.331 ps │ 17.331 ps │ 17.193 ps │ 17.351 ps │ 25.104 ps   │ 19.529 ps       │ 22.272 ps        │ 16.3 ps         │\n",
      "╘════════════╧════════════════╧═══════════╧═══════════╧═══════════╧═══════════╧═════════════╧═════════════════╧══════════════════╧═════════════════╛\n",
      "\n",
      "Delay of the circuit = 169.74 ps\n",
      "Minimum achievable delay = 168.74 ps\n",
      "Number of stages = 9\n",
      "Tau_2 = 3.717 ps\n",
      "Tau_ratio = 1.663\n",
      "F_hat = 2.827\n",
      "Final load = 21.780 * C_in_inv\n",
      "H = 21.780\n",
      "G = 2.834\n",
      "B = 187.000\n"
     ]
    }
   ],
   "source": [
    "buffer1_final = Inverter(\"buffer1\", BETA_OPT, BETA_OPT, GAMMA_BUFFER_1, DUMMY_METAL, C_INT_TRANS, TAU_RATIO)\n",
    "buffer2_final = Inverter(\"buffer2\", BETA_OPT, BETA_OPT, GAMMA_BUFFER_2, DUMMY_METAL, C_INT_TRANS, TAU_RATIO)\n",
    "buffer3_final = Inverter(\"buffer3\", BETA_OPT, BETA_OPT, GAMMA_BUFFER_3, DUMMY_METAL, C_INT_TRANS, TAU_RATIO)\n",
    "buffer4_final = Inverter(\"buffer4\", BETA_OPT, BETA_OPT, GAMMA_BUFFER_4, DUMMY_METAL, C_INT_TRANS, TAU_RATIO)\n",
    "\n",
    "rowdec_1x_final_gates = [input_buffer, buffer1_final, buffer2_final, buffer3_final, buffer4_final, nand_branch_wire, nor_3rd_final, nand_3rd_final, inv_3rd_final]\n",
    "\n",
    "rowdec_1x_final = Circuit(\"RowDecoder 1x - Final\", rowdec_1x_final_gates, TAU_2, TAU_RATIO, (post_WL_metal.Ctot + BITCELL_CAP) / C_GATE_INV)\n",
    "rowdec_1x_final.info()"
   ]
  },
  {
   "cell_type": "markdown",
   "metadata": {},
   "source": [
    "The delay is very interesting, but the size are, sometimes, too big (problems with pitch-matching for example). Let's see if with other architectures we can achieve better results"
   ]
  },
  {
   "attachments": {
    "rowdec_1x_final.jpeg": {
     "image/jpeg": "[encoded data removed]"
    }
   },
   "cell_type": "markdown",
   "metadata": {},
   "source": [
    "The final architecture of the RowDecoder 1x is the following\\\n",
    "\\\n",
    "![rowdec_1x_final.jpeg](attachment:rowdec_1x_final.jpeg)"
   ]
  },
  {
   "cell_type": "markdown",
   "metadata": {},
   "source": [
    "The total delay is"
   ]
  },
  {
   "cell_type": "code",
   "execution_count": 23,
   "metadata": {},
   "outputs": [
    {
     "name": "stdout",
     "output_type": "stream",
     "text": [
      "Total delay = 171.53 ps\n"
     ]
    }
   ],
   "source": [
    "total_delay = rowdec_1x_final.delay + pre_post_metal.tau + post_WL_metal.tau\n",
    "print(f\"Total delay = {str(Quantity(total_delay, 's'))}\")"
   ]
  }
 ],
 "metadata": {
  "kernelspec": {
   "display_name": "Python 3",
   "language": "python",
   "name": "python3"
  },
  "language_info": {
   "codemirror_mode": {
    "name": "ipython",
    "version": 3
   },
   "file_extension": ".py",
   "mimetype": "text/x-python",
   "name": "python",
   "nbconvert_exporter": "python",
   "pygments_lexer": "ipython3",
   "version": "3.11.5"
  }
 },
 "nbformat": 4,
 "nbformat_minor": 2
}
